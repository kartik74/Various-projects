{
 "cells": [
  {
   "cell_type": "code",
   "execution_count": 1,
   "metadata": {},
   "outputs": [],
   "source": [
    "import numbers"
   ]
  },
  {
   "cell_type": "code",
   "execution_count": 8,
   "metadata": {},
   "outputs": [],
   "source": [
    "class IntField:\n",
    "    def __init__(self, min_,max_):\n",
    "        self._min = min_\n",
    "        self._max = max_ \n",
    "    def __set_name__(self, cls, prop_name):\n",
    "        self.prop_name = prop_name\n",
    "        \n",
    "    def __set__(self, instance, value):\n",
    "        if not isinstance(value, numbers.Integral):\n",
    "            raise ValueError(f'{self.prop_name} must be int')\n",
    "        if value < self._min:\n",
    "            raise ValueError(f'{self.prop_name} must be >={self._min}')\n",
    "        if value > self._max:\n",
    "            raise ValueError(f'{self.prop_name} must be <= {self._max}')\n",
    "        instance.__dict__[self.prop_name] = value\n",
    "        \n",
    "    def __get__(self, instance, cls):\n",
    "        if instance is None:\n",
    "            return self\n",
    "        return instance.__dict__.get(self.prop_name, None)"
   ]
  },
  {
   "cell_type": "code",
   "execution_count": 9,
   "metadata": {},
   "outputs": [],
   "source": [
    "class Person:\n",
    "    age = IntField(0,100)"
   ]
  },
  {
   "cell_type": "code",
   "execution_count": 10,
   "metadata": {},
   "outputs": [],
   "source": [
    "p = Person()"
   ]
  },
  {
   "cell_type": "code",
   "execution_count": 11,
   "metadata": {},
   "outputs": [],
   "source": [
    "p.age = 5"
   ]
  },
  {
   "cell_type": "code",
   "execution_count": 12,
   "metadata": {},
   "outputs": [
    {
     "data": {
      "text/plain": [
       "5"
      ]
     },
     "execution_count": 12,
     "metadata": {},
     "output_type": "execute_result"
    }
   ],
   "source": [
    "p.age"
   ]
  },
  {
   "cell_type": "code",
   "execution_count": 13,
   "metadata": {},
   "outputs": [
    {
     "name": "stdout",
     "output_type": "stream",
     "text": [
      "age must be <= 100\n"
     ]
    }
   ],
   "source": [
    "try:\n",
    "    p.age = 200\n",
    "except ValueError as ex:\n",
    "    print(ex)"
   ]
  },
  {
   "cell_type": "code",
   "execution_count": 14,
   "metadata": {},
   "outputs": [],
   "source": [
    "import unittest\n",
    "    "
   ]
  },
  {
   "cell_type": "code",
   "execution_count": 15,
   "metadata": {},
   "outputs": [],
   "source": [
    "def run_tests(test_class):\n",
    "    suite = unittest.TestLoader().loadTestsFromTestCase(test_class)\n",
    "    runner = unittest.TextTestRunner(verbosity=2)\n",
    "    result = runner.run(suite)"
   ]
  },
  {
   "cell_type": "code",
   "execution_count": 17,
   "metadata": {},
   "outputs": [],
   "source": [
    "class TestIntField(unittest.TestCase):\n",
    "    class Person:\n",
    "        age = IntField(0,10)\n",
    "        \n",
    "    def test_set_age_ok(self):\n",
    "        p = self.Person()\n",
    "        p.age = 0\n",
    "        self.assertEqual(0,p.age)"
   ]
  },
  {
   "cell_type": "code",
   "execution_count": 18,
   "metadata": {},
   "outputs": [
    {
     "name": "stderr",
     "output_type": "stream",
     "text": [
      "test_set_age_ok (__main__.TestIntField) ... ok\n",
      "\n",
      "----------------------------------------------------------------------\n",
      "Ran 1 test in 0.002s\n",
      "\n",
      "OK\n"
     ]
    }
   ],
   "source": [
    "run_tests(TestIntField)"
   ]
  },
  {
   "cell_type": "code",
   "execution_count": 21,
   "metadata": {},
   "outputs": [],
   "source": [
    "class TestIntField(unittest.TestCase):\n",
    "    class Person:\n",
    "        age = IntField(0,10)\n",
    "        \n",
    "    def test_set_age_ok(self):\n",
    "        min_ = 5\n",
    "        max_ = 10\n",
    "        self.Person.age = IntField(5,10)\n",
    "        \n",
    "        \n",
    "        p = self.Person()\n",
    "        p.age = 5\n",
    "        self.assertEqual(5, p.age)"
   ]
  },
  {
   "cell_type": "code",
   "execution_count": 22,
   "metadata": {},
   "outputs": [
    {
     "name": "stderr",
     "output_type": "stream",
     "text": [
      "test_set_age_ok (__main__.TestIntField) ... ERROR\n",
      "\n",
      "======================================================================\n",
      "ERROR: test_set_age_ok (__main__.TestIntField)\n",
      "----------------------------------------------------------------------\n",
      "Traceback (most recent call last):\n",
      "  File \"<ipython-input-21-99c9359ec512>\", line 12, in test_set_age_ok\n",
      "    p.age = 5\n",
      "  File \"<ipython-input-8-69dc955c196a>\", line 16, in __set__\n",
      "    instance.__dict__[self.prop_name] = value\n",
      "AttributeError: 'IntField' object has no attribute 'prop_name'\n",
      "\n",
      "----------------------------------------------------------------------\n",
      "Ran 1 test in 0.003s\n",
      "\n",
      "FAILED (errors=1)\n"
     ]
    }
   ],
   "source": [
    "run_tests(TestIntField)"
   ]
  },
  {
   "cell_type": "code",
   "execution_count": 23,
   "metadata": {},
   "outputs": [],
   "source": [
    "class TestIntField(unittest.TestCase):\n",
    "    class Person:\n",
    "        age = IntField(0,10)\n",
    "        \n",
    "    def create_person(self, min_, max_):\n",
    "        self.Person.age = IntField(min_,max_)\n",
    "        self.Person.age.__set_name__(Person, 'age')\n",
    "        return self.Person()\n",
    "    \n",
    "    def test_set_age_ok(self):\n",
    "        min_ = 5\n",
    "        max_ = 10\n",
    "        p= self.create_person(min_,max_)\n",
    "        p.age = 5\n",
    "        self.assertEqual(5, p.age)"
   ]
  },
  {
   "cell_type": "code",
   "execution_count": 24,
   "metadata": {},
   "outputs": [
    {
     "name": "stderr",
     "output_type": "stream",
     "text": [
      "test_set_age_ok (__main__.TestIntField) ... ok\n",
      "\n",
      "----------------------------------------------------------------------\n",
      "Ran 1 test in 0.002s\n",
      "\n",
      "OK\n"
     ]
    }
   ],
   "source": [
    "run_tests(TestIntField)"
   ]
  },
  {
   "cell_type": "code",
   "execution_count": 25,
   "metadata": {},
   "outputs": [],
   "source": [
    "class Person:\n",
    "    a=10"
   ]
  },
  {
   "cell_type": "code",
   "execution_count": 26,
   "metadata": {},
   "outputs": [
    {
     "data": {
      "text/plain": [
       "type"
      ]
     },
     "execution_count": 26,
     "metadata": {},
     "output_type": "execute_result"
    }
   ],
   "source": [
    "type(Person)"
   ]
  },
  {
   "cell_type": "code",
   "execution_count": 29,
   "metadata": {},
   "outputs": [],
   "source": [
    "Person= type('Person', (), {'a':10})"
   ]
  },
  {
   "cell_type": "code",
   "execution_count": 30,
   "metadata": {},
   "outputs": [
    {
     "data": {
      "text/plain": [
       "type"
      ]
     },
     "execution_count": 30,
     "metadata": {},
     "output_type": "execute_result"
    }
   ],
   "source": [
    "type(Person)"
   ]
  },
  {
   "cell_type": "code",
   "execution_count": 31,
   "metadata": {},
   "outputs": [
    {
     "data": {
      "text/plain": [
       "mappingproxy({'a': 10,\n",
       "              '__module__': '__main__',\n",
       "              '__dict__': <attribute '__dict__' of 'Person' objects>,\n",
       "              '__weakref__': <attribute '__weakref__' of 'Person' objects>,\n",
       "              '__doc__': None})"
      ]
     },
     "execution_count": 31,
     "metadata": {},
     "output_type": "execute_result"
    }
   ],
   "source": [
    "Person.__dict__\n"
   ]
  },
  {
   "cell_type": "code",
   "execution_count": 32,
   "metadata": {},
   "outputs": [
    {
     "data": {
      "text/plain": [
       "10"
      ]
     },
     "execution_count": 32,
     "metadata": {},
     "output_type": "execute_result"
    }
   ],
   "source": [
    "Person.a"
   ]
  },
  {
   "cell_type": "code",
   "execution_count": 33,
   "metadata": {},
   "outputs": [],
   "source": [
    "Person.a = 100"
   ]
  },
  {
   "cell_type": "code",
   "execution_count": 35,
   "metadata": {},
   "outputs": [
    {
     "data": {
      "text/plain": [
       "mappingproxy({'a': 100,\n",
       "              '__module__': '__main__',\n",
       "              '__dict__': <attribute '__dict__' of 'Person' objects>,\n",
       "              '__weakref__': <attribute '__weakref__' of 'Person' objects>,\n",
       "              '__doc__': None})"
      ]
     },
     "execution_count": 35,
     "metadata": {},
     "output_type": "execute_result"
    }
   ],
   "source": [
    "Person.__dict__"
   ]
  },
  {
   "cell_type": "code",
   "execution_count": 36,
   "metadata": {},
   "outputs": [],
   "source": [
    "p = Person()"
   ]
  },
  {
   "cell_type": "code",
   "execution_count": 37,
   "metadata": {},
   "outputs": [
    {
     "data": {
      "text/plain": [
       "100"
      ]
     },
     "execution_count": 37,
     "metadata": {},
     "output_type": "execute_result"
    }
   ],
   "source": [
    "p.a"
   ]
  },
  {
   "cell_type": "code",
   "execution_count": 38,
   "metadata": {},
   "outputs": [],
   "source": [
    "p.a = 1"
   ]
  },
  {
   "cell_type": "code",
   "execution_count": 39,
   "metadata": {},
   "outputs": [
    {
     "data": {
      "text/plain": [
       "1"
      ]
     },
     "execution_count": 39,
     "metadata": {},
     "output_type": "execute_result"
    }
   ],
   "source": [
    "p.a"
   ]
  },
  {
   "cell_type": "code",
   "execution_count": 40,
   "metadata": {},
   "outputs": [
    {
     "data": {
      "text/plain": [
       "{'a': 1}"
      ]
     },
     "execution_count": 40,
     "metadata": {},
     "output_type": "execute_result"
    }
   ],
   "source": [
    "p.__dict__"
   ]
  },
  {
   "cell_type": "code",
   "execution_count": 43,
   "metadata": {},
   "outputs": [],
   "source": [
    "class TestIntField(unittest.TestCase):\n",
    "    @staticmethod\n",
    "    def create_test_class(min_, max_):\n",
    "        obj = type('TestClass', (), {'age': IntField(min_, max_)})\n",
    "        return obj()\n",
    "    \n",
    "    def test_set_age_ok(self):\n",
    "        min_ = 5\n",
    "        max_ = 10\n",
    "        p= self.create_test_class(min_,max_)\n",
    "        p.age = 5\n",
    "        self.assertEqual(5, p.age)\n",
    "    \n",
    "    "
   ]
  },
  {
   "cell_type": "code",
   "execution_count": 45,
   "metadata": {},
   "outputs": [
    {
     "name": "stderr",
     "output_type": "stream",
     "text": [
      "test_set_age_ok (__main__.TestIntField) ... ok\n",
      "\n",
      "----------------------------------------------------------------------\n",
      "Ran 1 test in 0.002s\n",
      "\n",
      "OK\n"
     ]
    }
   ],
   "source": [
    "run_tests(TestIntField)"
   ]
  },
  {
   "cell_type": "code",
   "execution_count": 47,
   "metadata": {},
   "outputs": [],
   "source": [
    "class TestIntField(unittest.TestCase):\n",
    "    @staticmethod\n",
    "    def create_test_class(min_, max_):\n",
    "        obj = type('TestClass', (), {'age': IntField(min_, max_)})\n",
    "        return obj()\n",
    "    \n",
    "    def test_set_age_ok(self):\n",
    "        min_ = 5\n",
    "        max_ = 10\n",
    "        obj = self.create_test_class(min_,max_)\n",
    "        valid_values = range(min_,max_)\n",
    "        p.age = 5\n",
    "        self.assertEqual(5, p.age)\n",
    "        for i,value in enumerate(valid_values):\n",
    "            with self.subTest(test_number = i):\n",
    "                obj.age = value\n",
    "                self.assertEqual(value, obj.age)\n"
   ]
  },
  {
   "cell_type": "code",
   "execution_count": 48,
   "metadata": {},
   "outputs": [
    {
     "name": "stderr",
     "output_type": "stream",
     "text": [
      "test_set_age_ok (__main__.TestIntField) ... ok\n",
      "\n",
      "----------------------------------------------------------------------\n",
      "Ran 1 test in 0.002s\n",
      "\n",
      "OK\n"
     ]
    }
   ],
   "source": [
    "run_tests(TestIntField)"
   ]
  },
  {
   "cell_type": "code",
   "execution_count": 50,
   "metadata": {},
   "outputs": [],
   "source": [
    "class TestIntField(unittest.TestCase):\n",
    "    @staticmethod\n",
    "    def create_test_class(min_, max_):\n",
    "        obj = type('TestClass', (), {'age': IntField(min_, max_)})\n",
    "        return obj()\n",
    "    \n",
    "    def test_set_age_ok(self):\n",
    "        \"\"\"valid value can bea assigned\"\"\"\n",
    "        min_ = 5\n",
    "        max_ = 10\n",
    "        obj = self.create_test_class(min_,max_)\n",
    "        valid_values = range(min_,max_)\n",
    "        p.age = 5\n",
    "        self.assertEqual(5, p.age)\n",
    "        for i,value in enumerate(valid_values):\n",
    "            with self.subTest(test_number = i):\n",
    "                obj.age = value\n",
    "                self.assertEqual(value, obj.age)\n",
    "\n",
    "                \n",
    "                \n",
    "                \n",
    "    def test_set_age_inalid(self):\n",
    "        \"\"\"invalid value raise valueerror exception\"\"\"\n",
    "        min_ = -10\n",
    "        max_ = 10\n",
    "        obj = self.create_test_class(min_, max_)\n",
    "        \n",
    "        bad_values = list(range(min_, -5, min_))\n",
    "        bad_values += list(range(max_, +1, max_ +5))\n",
    "        bad_values += [10.5 + 0j, 'abc', (1,2)]\n",
    "        \n",
    "        for i, value in enumerate(bad_values):\n",
    "            with self.subTest(test_number=i):\n",
    "                with self.assertRaises(ValueError):\n",
    "                    obj.age = value\n",
    "                    \n",
    "                    \n",
    "    def test_class_get(self):\n",
    "        \"\"\"tests that class attr returns des\"\"\"\n",
    "        obj = self.create_test_class(0,0)\n",
    "        obj_class = type(obj)\n",
    "        self.assertIsInstance(obj_class.age, IntField)"
   ]
  },
  {
   "cell_type": "code",
   "execution_count": 53,
   "metadata": {},
   "outputs": [
    {
     "name": "stderr",
     "output_type": "stream",
     "text": [
      "test_class_get (__main__.TestIntField)\n",
      "tests that class attr returns des ... ok\n",
      "test_set_age_inalid (__main__.TestIntField)\n",
      "invalid value raise valueerror exception ... ok\n",
      "test_set_age_ok (__main__.TestIntField)\n",
      "valid value can bea assigned ... ok\n",
      "\n",
      "----------------------------------------------------------------------\n",
      "Ran 3 tests in 0.006s\n",
      "\n",
      "OK\n"
     ]
    }
   ],
   "source": [
    "run_tests(TestIntField)"
   ]
  },
  {
   "cell_type": "code",
   "execution_count": 66,
   "metadata": {},
   "outputs": [],
   "source": [
    "class TestIntField(unittest.TestCase):\n",
    "    @staticmethod\n",
    "    def create_test_class(min_, max_):\n",
    "        obj = type('TestClass', (), {'age': IntField(min_, max_)})\n",
    "        return obj()\n",
    "    \n",
    "    def test_set_age_ok(self):\n",
    "        \"\"\"valid value can bea assigned\"\"\"\n",
    "        min_ = 5\n",
    "        max_ = 10\n",
    "        obj = self.create_test_class(min_,max_)\n",
    "        valid_values = range(min_,max_)\n",
    "        p.age = 5\n",
    "        self.assertEqual(5, p.age)\n",
    "        for i,value in enumerate(valid_values):\n",
    "            with self.subTest(test_number = i):\n",
    "                obj.age = value\n",
    "                self.assertEqual(value, obj.age)\n",
    "\n",
    "                \n",
    "                \n",
    "                \n",
    "    def test_set_age_inalid(self):\n",
    "        \"\"\"invalid value raise valueerror exception\"\"\"\n",
    "        min_ = -10\n",
    "        max_ = 10\n",
    "        obj = self.create_test_class(min_, max_)\n",
    "        \n",
    "        bad_values = list(range(min_, -5, min_))\n",
    "        bad_values += list(range(max_, +1, max_ +5))\n",
    "        bad_values += [10.5 + 0j, 'abc', (1,2)]\n",
    "        \n",
    "        for i, value in enumerate(bad_values):\n",
    "            with self.subTest(test_number=i):\n",
    "                with self.assertRaises(ValueError):\n",
    "                    obj.age = value\n",
    "                    \n",
    "                    \n",
    "    def test_class_get(self):\n",
    "        \"\"\"tests that class attr returns des\"\"\"\n",
    "        obj = self.create_test_class(0,0)\n",
    "        obj_class = type(obj)\n",
    "        self.assertIsInstance(obj_class.age, IntField)\n",
    "        \n",
    "        \n",
    "    def test_set_age_min_only(self):\n",
    "        \"\"\"tests that we can specify a min value only\"\"\"\n",
    "        min_=0\n",
    "        max_=None\n",
    "        obj = self.create_test_class(min_, max_)\n",
    "        values = range(min_, min_ +100,10)\n",
    "        for i, value in enumerate(values):\n",
    "            with self.subTest(test_number=i):\n",
    "                obj.age = value\n",
    "                self.assertEqual(value, obj.age)\n",
    "                \n",
    "                \n",
    "    def test_set_age_max_only(self):\n",
    "        \"\"\"test for max\"\"\"\n",
    "        min_ = None\n",
    "        max_ = 10\n",
    "        obj = self.create_test_class(min_, max_)\n",
    "        values = range(max_ -100,max_, 10)\n",
    "        for i, value in enumerate(values):\n",
    "            with self.subTest(test_number=i):\n",
    "                obj.age = value\n",
    "                self.assertEqual(value, obj.age)\n",
    "                \n",
    "    def test_set_age_no_limits(self):\n",
    "        \"\"\"test to use int field w/o limi\"\"\"\n",
    "        min_ = None\n",
    "        max_=  None\n",
    "        obj = self.create_test_class(min_, max_)\n",
    "        values= range(-100,100,10)\n",
    "        for i, value in enumerate(values):\n",
    "            with self.subTest(test_number=i):\n",
    "                obj.age = value\n",
    "                self.assertEqual(value, obj.age)\n",
    "        "
   ]
  },
  {
   "cell_type": "code",
   "execution_count": 67,
   "metadata": {},
   "outputs": [
    {
     "name": "stderr",
     "output_type": "stream",
     "text": [
      "test_class_get (__main__.TestIntField)\n",
      "tests that class attr returns des ... ok\n",
      "test_set_age_inalid (__main__.TestIntField)\n",
      "invalid value raise valueerror exception ... ok\n",
      "test_set_age_max_only (__main__.TestIntField)\n",
      "test for max ... ok\n",
      "test_set_age_min_only (__main__.TestIntField)\n",
      "tests that we can specify a min value only ... ok\n",
      "test_set_age_no_limits (__main__.TestIntField)\n",
      "test to use int field w/o limi ... ok\n",
      "test_set_age_ok (__main__.TestIntField)\n",
      "valid value can bea assigned ... ok\n",
      "\n",
      "----------------------------------------------------------------------\n",
      "Ran 6 tests in 0.011s\n",
      "\n",
      "OK\n"
     ]
    }
   ],
   "source": [
    "run_tests(TestIntField)"
   ]
  },
  {
   "cell_type": "code",
   "execution_count": 68,
   "metadata": {},
   "outputs": [],
   "source": [
    "class IntField:\n",
    "    def __init__(self, min_=None,max_=None):\n",
    "        self._min = min_\n",
    "        self._max = max_ \n",
    "    def __set_name__(self, cls, prop_name):\n",
    "        self.prop_name = prop_name\n",
    "        \n",
    "    def __set__(self, instance, value):\n",
    "        if not isinstance(value, numbers.Integral):\n",
    "            raise ValueError(f'{self.prop_name} must be int')\n",
    "        if self._min is not None and value < self._min:\n",
    "            raise ValueError(f'{self.prop_name} must be >={self._min}')\n",
    "        if self._max is not None and value > self._max:\n",
    "            raise ValueError(f'{self.prop_name} must be <= {self._max}')\n",
    "        instance.__dict__[self.prop_name] = value\n",
    "        \n",
    "    def __get__(self, instance, cls):\n",
    "        if instance is None:\n",
    "            return self\n",
    "        return instance.__dict__.get(self.prop_name, None)"
   ]
  },
  {
   "cell_type": "code",
   "execution_count": 69,
   "metadata": {},
   "outputs": [
    {
     "name": "stderr",
     "output_type": "stream",
     "text": [
      "test_class_get (__main__.TestIntField)\n",
      "tests that class attr returns des ... ok\n",
      "test_set_age_inalid (__main__.TestIntField)\n",
      "invalid value raise valueerror exception ... ok\n",
      "test_set_age_max_only (__main__.TestIntField)\n",
      "test for max ... ok\n",
      "test_set_age_min_only (__main__.TestIntField)\n",
      "tests that we can specify a min value only ... ok\n",
      "test_set_age_no_limits (__main__.TestIntField)\n",
      "test to use int field w/o limi ... ok\n",
      "test_set_age_ok (__main__.TestIntField)\n",
      "valid value can bea assigned ... ok\n",
      "\n",
      "----------------------------------------------------------------------\n",
      "Ran 6 tests in 0.011s\n",
      "\n",
      "OK\n"
     ]
    }
   ],
   "source": [
    "run_tests(TestIntField\n",
    "         )"
   ]
  },
  {
   "cell_type": "code",
   "execution_count": null,
   "metadata": {},
   "outputs": [],
   "source": [
    "class IntField:\n",
    "    def __init__(self, min_=None,max_=None):\n",
    "        self._min = min_\n",
    "        self._max = max_ \n",
    "    def __set_name__(self, cls, prop_name):\n",
    "        self.prop_name = prop_name\n",
    "        \n",
    "    def __set__(self, instance, value):\n",
    "        if not isinstance(value, numbers.Integral):\n",
    "            raise ValueError(f'{self.prop_name} must be int')\n",
    "        if self._min is not None and value < self._min:\n",
    "            raise ValueError(f'{self.prop_name} must be >={self._min}')\n",
    "        if self._max is not None and value > self._max:\n",
    "            raise ValueError(f'{self.prop_name} must be <= {self._max}')\n",
    "        instance.__dict__[self.prop_name] = value\n",
    "        \n",
    "    def __get__(self, instance, cls):\n",
    "        if instance is None:\n",
    "            return self\n",
    "        return instance.__dict__.get(self.prop_name, None)"
   ]
  },
  {
   "cell_type": "code",
   "execution_count": 93,
   "metadata": {},
   "outputs": [],
   "source": [
    "class CharField:\n",
    "    def __init__(self, min_=None,max_=None):\n",
    "        min_ = min_ or 0\n",
    "        min_ =max(0,min_)\n",
    "        self._min = min_\n",
    "        self._max = max_ \n",
    "    def __set_name__(self, cls, prop_name):\n",
    "        self.prop_name = prop_name\n",
    "        \n",
    "    def __set__(self, instance, value):\n",
    "        if not isinstance(value, str):\n",
    "            raise ValueError(f'{self.prop_name} must be str')\n",
    "        if self._min is not None and len(value) < self._min:\n",
    "            raise ValueError(f'{self.prop_name} must be >={self._min}')\n",
    "        if self._max is not None and len(value) > self._max:\n",
    "            raise ValueError(f'{self.prop_name} must be <= {self._max}')\n",
    "        instance.__dict__[self.prop_name] = value\n",
    "        \n",
    "    def __get__(self, instance, cls):\n",
    "        if instance is None:\n",
    "            return self\n",
    "        return instance.__dict__.get(self.prop_name, None)"
   ]
  },
  {
   "cell_type": "code",
   "execution_count": 94,
   "metadata": {},
   "outputs": [],
   "source": [
    "class Person:\n",
    "    name = CharField(1,10)"
   ]
  },
  {
   "cell_type": "code",
   "execution_count": 95,
   "metadata": {},
   "outputs": [],
   "source": [
    "p  = Person()"
   ]
  },
  {
   "cell_type": "code",
   "execution_count": 96,
   "metadata": {},
   "outputs": [
    {
     "name": "stdout",
     "output_type": "stream",
     "text": [
      "name must be <= 10\n"
     ]
    }
   ],
   "source": [
    "try:\n",
    "    p.name = 'python rocks'\n",
    "except ValueError as ex:\n",
    "    print(ex)"
   ]
  },
  {
   "cell_type": "code",
   "execution_count": 97,
   "metadata": {},
   "outputs": [],
   "source": [
    "p.name = 'john'"
   ]
  },
  {
   "cell_type": "code",
   "execution_count": 98,
   "metadata": {},
   "outputs": [
    {
     "data": {
      "text/plain": [
       "'john'"
      ]
     },
     "execution_count": 98,
     "metadata": {},
     "output_type": "execute_result"
    }
   ],
   "source": [
    "p.name"
   ]
  },
  {
   "cell_type": "code",
   "execution_count": 99,
   "metadata": {},
   "outputs": [],
   "source": [
    "class Person:\n",
    "    name = CharField(1)"
   ]
  },
  {
   "cell_type": "code",
   "execution_count": 100,
   "metadata": {},
   "outputs": [],
   "source": [
    "p = Person()"
   ]
  },
  {
   "cell_type": "code",
   "execution_count": 101,
   "metadata": {},
   "outputs": [],
   "source": [
    "p.name = ' njjodnvojvn'"
   ]
  },
  {
   "cell_type": "code",
   "execution_count": 107,
   "metadata": {},
   "outputs": [],
   "source": [
    "class TestCharField(unittest.TestCase):\n",
    "    @staticmethod\n",
    "    def create_test_class(min_, max_):\n",
    "        obj = type('TestClass', (), {'name': CharField(min_, max_)})\n",
    "        return obj()\n",
    "    \n",
    "    \n",
    "    def test_set_name_ok(self):\n",
    "        \"\"\"test value can be assigned\"\"\"\n",
    "        min_ = 1\n",
    "        max_  =10\n",
    "        obj = self.create_test_class(min_, max_)\n",
    "        valid_lengths = range(min_, max_ +1)\n",
    "        \n",
    "        for i, length in enumerate(valid_lengths):\n",
    "            value = 'a' * length\n",
    "            with self.subTest(number = i):\n",
    "                obj.name = value\n",
    "                self.assertEqual(value, obj.name)"
   ]
  },
  {
   "cell_type": "raw",
   "metadata": {},
   "source": [
    "un_tests(CharField)"
   ]
  },
  {
   "cell_type": "code",
   "execution_count": 108,
   "metadata": {},
   "outputs": [
    {
     "name": "stderr",
     "output_type": "stream",
     "text": [
      "test_set_name_ok (__main__.TestCharField)\n",
      "test value can be assigned ... ok\n",
      "\n",
      "----------------------------------------------------------------------\n",
      "Ran 1 test in 0.003s\n",
      "\n",
      "OK\n"
     ]
    }
   ],
   "source": [
    "run_tests(TestCharField)"
   ]
  },
  {
   "cell_type": "code",
   "execution_count": 109,
   "metadata": {},
   "outputs": [],
   "source": [
    "class IntField:\n",
    "    def __init__(self, min_=None,max_=None):\n",
    "        self._min = min_\n",
    "        self._max = max_ \n",
    "    def __set_name__(self, cls, prop_name):\n",
    "        self.prop_name = prop_name\n",
    "        \n",
    "    def __set__(self, instance, value):\n",
    "        if not isinstance(value, numbers.Integral):\n",
    "            raise ValueError(f'{self.prop_name} must be int')\n",
    "        if self._min is not None and value < self._min:\n",
    "            raise ValueError(f'{self.prop_name} must be >={self._min}')\n",
    "        if self._max is not None and value > self._max:\n",
    "            raise ValueError(f'{self.prop_name} must be <= {self._max}')\n",
    "        instance.__dict__[self.prop_name] = value\n",
    "        \n",
    "    def __get__(self, instance, cls):\n",
    "        if instance is None:\n",
    "            return self\n",
    "        return instance.__dict__.get(self.prop_name, None)\n",
    "    \n",
    "    \n",
    "    \n",
    "class CharField:\n",
    "    def __init__(self, min_=None,max_=None):\n",
    "        min_ = min_ or 0\n",
    "        min_ =max(0,min_)\n",
    "        self._min = min_\n",
    "        self._max = max_ \n",
    "    def __set_name__(self, cls, prop_name):\n",
    "        self.prop_name = prop_name\n",
    "        \n",
    "    def __set__(self, instance, value):\n",
    "        if not isinstance(value, str):\n",
    "            raise ValueError(f'{self.prop_name} must be str')\n",
    "        if self._min is not None and len(value) < self._min:\n",
    "            raise ValueError(f'{self.prop_name} must be >={self._min}')\n",
    "        if self._max is not None and len(value) > self._max:\n",
    "            raise ValueError(f'{self.prop_name} must be <= {self._max}')\n",
    "        instance.__dict__[self.prop_name] = value\n",
    "        \n",
    "    def __get__(self, instance, cls):\n",
    "        if instance is None:\n",
    "            return self\n",
    "        return instance.__dict__.get(self.prop_name, None)"
   ]
  },
  {
   "cell_type": "code",
   "execution_count": 111,
   "metadata": {},
   "outputs": [],
   "source": [
    "class BaseValid:\n",
    "    def __init__(self, min_=None,max_=None):\n",
    "        self._min = min_\n",
    "        self._max = max_ \n",
    "    def __set_name__(self, cls, prop_name):\n",
    "        self.prop_name = prop_name\n",
    "        \n",
    "        \n",
    "    def __get__(self, instance, cls):\n",
    "        if instance is None:\n",
    "            return self\n",
    "        return instance.__dict__.get(self.prop_name, None)\n",
    "    \n",
    "    def validate(self, value):\n",
    "        #this will needs to be implemented \n",
    "        pass\n",
    "    \n",
    "    \n",
    "    def __set__(self, instance, value):\n",
    "        self.validate(value)\n",
    "        instance.__dict__[self.prop_name] = value\n",
    "        \n"
   ]
  },
  {
   "cell_type": "code",
   "execution_count": 112,
   "metadata": {},
   "outputs": [],
   "source": [
    "class Person:\n",
    "    name = BaseValid()"
   ]
  },
  {
   "cell_type": "code",
   "execution_count": 113,
   "metadata": {},
   "outputs": [],
   "source": [
    "p = Person()"
   ]
  },
  {
   "cell_type": "code",
   "execution_count": 114,
   "metadata": {},
   "outputs": [],
   "source": [
    "p.name = 'alex'"
   ]
  },
  {
   "cell_type": "code",
   "execution_count": 115,
   "metadata": {},
   "outputs": [
    {
     "data": {
      "text/plain": [
       "'alex'"
      ]
     },
     "execution_count": 115,
     "metadata": {},
     "output_type": "execute_result"
    }
   ],
   "source": [
    "p.name"
   ]
  },
  {
   "cell_type": "code",
   "execution_count": 116,
   "metadata": {},
   "outputs": [],
   "source": [
    "p.name = ['a', 'b']"
   ]
  },
  {
   "cell_type": "code",
   "execution_count": 117,
   "metadata": {},
   "outputs": [
    {
     "data": {
      "text/plain": [
       "['a', 'b']"
      ]
     },
     "execution_count": 117,
     "metadata": {},
     "output_type": "execute_result"
    }
   ],
   "source": [
    "p.name"
   ]
  },
  {
   "cell_type": "code",
   "execution_count": 118,
   "metadata": {},
   "outputs": [],
   "source": [
    "class IntField(BaseValid):\n",
    "    def validate(self, value):\n",
    "        if not isinstance(value, numbers.Integral):\n",
    "            raise ValueError(f'{self.prop_name} must be int')\n",
    "        if self._min is not None and value < self._min:\n",
    "            raise ValueError(f'{self.prop_name} must be >={self._min}')\n",
    "        if self._max is not None and value > self._max:\n",
    "            raise ValueError(f'{self.prop_name} must be <= {self._max}')\n",
    "            \n",
    "            \n",
    "            "
   ]
  },
  {
   "cell_type": "code",
   "execution_count": 119,
   "metadata": {},
   "outputs": [],
   "source": [
    "class CharField(BaseValid):\n",
    "    def __init__(self, min_, max_):\n",
    "        min_ = max(min_ or 0,0)\n",
    "        super().__init__(min_, max_)\n",
    "        \n",
    "    def validate(self, value):\n",
    "        if not isinstance(value, str):\n",
    "            raise ValueError(f'{self.prop_name} must be str')\n",
    "        if self._min is not None and len(value) < self._min:\n",
    "            raise ValueError(f'{self.prop_name} must be >={self._min}')\n",
    "        if self._max is not None and len(value) > self._max:\n",
    "            raise ValueError(f'{self.prop_name} must be <= {self._max}')"
   ]
  },
  {
   "cell_type": "code",
   "execution_count": 120,
   "metadata": {},
   "outputs": [
    {
     "name": "stderr",
     "output_type": "stream",
     "text": [
      "test_class_get (__main__.TestIntField)\n",
      "tests that class attr returns des ... ok\n",
      "test_set_age_inalid (__main__.TestIntField)\n",
      "invalid value raise valueerror exception ... ok\n",
      "test_set_age_max_only (__main__.TestIntField)\n",
      "test for max ... ok\n",
      "test_set_age_min_only (__main__.TestIntField)\n",
      "tests that we can specify a min value only ... ok\n",
      "test_set_age_no_limits (__main__.TestIntField)\n",
      "test to use int field w/o limi ... ok\n",
      "test_set_age_ok (__main__.TestIntField)\n",
      "valid value can bea assigned ... ok\n",
      "\n",
      "----------------------------------------------------------------------\n",
      "Ran 6 tests in 0.013s\n",
      "\n",
      "OK\n"
     ]
    }
   ],
   "source": [
    "run_tests(TestIntField)"
   ]
  },
  {
   "cell_type": "code",
   "execution_count": 121,
   "metadata": {},
   "outputs": [
    {
     "name": "stderr",
     "output_type": "stream",
     "text": [
      "test_set_name_ok (__main__.TestCharField)\n",
      "test value can be assigned ... ok\n",
      "\n",
      "----------------------------------------------------------------------\n",
      "Ran 1 test in 0.004s\n",
      "\n",
      "OK\n"
     ]
    }
   ],
   "source": [
    "run_tests(TestCharField)"
   ]
  },
  {
   "cell_type": "code",
   "execution_count": null,
   "metadata": {},
   "outputs": [],
   "source": []
  }
 ],
 "metadata": {
  "kernelspec": {
   "display_name": "Python 3",
   "language": "python",
   "name": "python3"
  },
  "language_info": {
   "codemirror_mode": {
    "name": "ipython",
    "version": 3
   },
   "file_extension": ".py",
   "mimetype": "text/x-python",
   "name": "python",
   "nbconvert_exporter": "python",
   "pygments_lexer": "ipython3",
   "version": "3.9.0"
  }
 },
 "nbformat": 4,
 "nbformat_minor": 4
}
