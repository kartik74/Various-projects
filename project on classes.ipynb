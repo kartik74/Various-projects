{
 "cells": [
  {
   "cell_type": "code",
   "execution_count": 1,
   "metadata": {},
   "outputs": [],
   "source": [
    "##TimeZONE Clsass"
   ]
  },
  {
   "cell_type": "code",
   "execution_count": 2,
   "metadata": {},
   "outputs": [],
   "source": [
    "import numbers\n",
    "from datetime import timedelta"
   ]
  },
  {
   "cell_type": "code",
   "execution_count": 116,
   "metadata": {},
   "outputs": [],
   "source": [
    "class TimeZone:\n",
    "    def __init__(self, name, off_hrs, off_mins):\n",
    "        if name is None or len(str(name).strip()) == 0:\n",
    "            raise ValueError('Timezone name cont be empty')\n",
    "            \n",
    "        self._name = str(name).strip()\n",
    "        \n",
    "        if not isinstance(off_hrs, numbers.Integral):\n",
    "            raise ValueError('hrs must be int')\n",
    "            \n",
    "        if not isinstance(off_mins, numbers.Integral):\n",
    "            raise ValueError('mins must be int')\n",
    "            \n",
    "        if off_mins>59 or off_mins < - 59:\n",
    "            raise ValueError('mins off must be b/w  -59 and 59')\n",
    "            \n",
    "            \n",
    "        offset = timedelta(hours=off_hrs, minutes=off_mins)\n",
    "        if offset < timedelta(hours=-12, minutes=0) or offset > timedelta(hours = 14, minutes=0):\n",
    "            raise ValueError('offset must be between -12:00 and +14:00')\n",
    "            \n",
    "            \n",
    "            \n",
    "        self._off_hrs = off_hrs\n",
    "        self._off_mins = off_mins\n",
    "        self._offset = offset\n",
    "        \n",
    "    @property\n",
    "    def offset(self):\n",
    "        return self._offset\n",
    "    \n",
    "    @property\n",
    "    def name(self):\n",
    "        return self._name\n",
    "    \n",
    "    def __eq__(self, other):\n",
    "        return (isinstance(other, TimeZone) and\n",
    "                self.name == other.name and \n",
    "                self._off_hrs == other._off_hrs and\n",
    "                self._off_mins == other._off_mins)\n",
    "    \n",
    "    def __repr__(self):\n",
    "        return (f\"TimeZone(name= '{self.name}', \"\n",
    "                f\"off_hrs = {self._off_hrs} , \"\n",
    "                f\"off_mins = {self._off_mins})\")\n",
    "    \n",
    "    \n",
    "    \n",
    "    \n",
    "            \n",
    "            \n",
    "            \n",
    "            \n",
    "            "
   ]
  },
  {
   "cell_type": "code",
   "execution_count": 117,
   "metadata": {},
   "outputs": [],
   "source": [
    "tz1 = TimeZone('abc', -2, -15)"
   ]
  },
  {
   "cell_type": "code",
   "execution_count": 118,
   "metadata": {},
   "outputs": [
    {
     "data": {
      "text/plain": [
       "'abc'"
      ]
     },
     "execution_count": 118,
     "metadata": {},
     "output_type": "execute_result"
    }
   ],
   "source": [
    "tz1.name"
   ]
  },
  {
   "cell_type": "code",
   "execution_count": 119,
   "metadata": {},
   "outputs": [],
   "source": [
    "from datetime import datetime "
   ]
  },
  {
   "cell_type": "code",
   "execution_count": 120,
   "metadata": {},
   "outputs": [],
   "source": [
    "dt = datetime.utcnow()"
   ]
  },
  {
   "cell_type": "code",
   "execution_count": 121,
   "metadata": {},
   "outputs": [
    {
     "name": "stdout",
     "output_type": "stream",
     "text": [
      "2021-02-15 14:07:13.200422\n"
     ]
    }
   ],
   "source": [
    "print(dt)"
   ]
  },
  {
   "cell_type": "code",
   "execution_count": 122,
   "metadata": {},
   "outputs": [
    {
     "name": "stdout",
     "output_type": "stream",
     "text": [
      "2021-02-15 11:52:13.200422\n"
     ]
    }
   ],
   "source": [
    "print(dt +tz1.offset)"
   ]
  },
  {
   "cell_type": "code",
   "execution_count": 123,
   "metadata": {},
   "outputs": [
    {
     "name": "stdout",
     "output_type": "stream",
     "text": [
      "offset must be between -12:00 and +14:00\n"
     ]
    }
   ],
   "source": [
    "try:\n",
    "    tz = TimeZone('ABC', 18, 0) \n",
    "except ValueError as ex:\n",
    "    print(ex)"
   ]
  },
  {
   "cell_type": "code",
   "execution_count": 124,
   "metadata": {},
   "outputs": [],
   "source": [
    "####Transaction Numbers"
   ]
  },
  {
   "cell_type": "code",
   "execution_count": 125,
   "metadata": {},
   "outputs": [],
   "source": [
    "class TransactionID:\n",
    "    def __init__(self, start_id):\n",
    "        self._start_id = start_id\n",
    "        \n",
    "    def next(self):\n",
    "        self._start_id +=1\n",
    "        return self._start_id"
   ]
  },
  {
   "cell_type": "code",
   "execution_count": 126,
   "metadata": {},
   "outputs": [],
   "source": [
    "class Account:\n",
    "    transaction_counter = TransactionID(100)\n",
    "    def make_trans(self):\n",
    "        new_trans_id = Account.transaction_counter.next()\n",
    "        return new_trans_id"
   ]
  },
  {
   "cell_type": "code",
   "execution_count": 127,
   "metadata": {},
   "outputs": [],
   "source": [
    "a1 = Account()\n",
    "a2 = Account()\n"
   ]
  },
  {
   "cell_type": "code",
   "execution_count": 128,
   "metadata": {},
   "outputs": [
    {
     "name": "stdout",
     "output_type": "stream",
     "text": [
      "101\n",
      "102\n",
      "103\n"
     ]
    }
   ],
   "source": [
    "print(a1.make_trans())\n",
    "print(a2.make_trans())\n",
    "print(a1.make_trans())"
   ]
  },
  {
   "cell_type": "code",
   "execution_count": 129,
   "metadata": {},
   "outputs": [],
   "source": [
    "def trans_ids(start_id):\n",
    "    while True:\n",
    "        start_id +=1\n",
    "        yield start_id"
   ]
  },
  {
   "cell_type": "code",
   "execution_count": 130,
   "metadata": {},
   "outputs": [],
   "source": [
    "t = trans_ids(100)"
   ]
  },
  {
   "cell_type": "code",
   "execution_count": 131,
   "metadata": {},
   "outputs": [
    {
     "data": {
      "text/plain": [
       "<generator object trans_ids at 0x0000025F3AF257B0>"
      ]
     },
     "execution_count": 131,
     "metadata": {},
     "output_type": "execute_result"
    }
   ],
   "source": [
    "t"
   ]
  },
  {
   "cell_type": "code",
   "execution_count": 132,
   "metadata": {},
   "outputs": [
    {
     "data": {
      "text/plain": [
       "101"
      ]
     },
     "execution_count": 132,
     "metadata": {},
     "output_type": "execute_result"
    }
   ],
   "source": [
    "next(t)"
   ]
  },
  {
   "cell_type": "code",
   "execution_count": 133,
   "metadata": {},
   "outputs": [
    {
     "data": {
      "text/plain": [
       "102"
      ]
     },
     "execution_count": 133,
     "metadata": {},
     "output_type": "execute_result"
    }
   ],
   "source": [
    "next(t)"
   ]
  },
  {
   "cell_type": "code",
   "execution_count": 134,
   "metadata": {},
   "outputs": [
    {
     "data": {
      "text/plain": [
       "103"
      ]
     },
     "execution_count": 134,
     "metadata": {},
     "output_type": "execute_result"
    }
   ],
   "source": [
    "next(t)"
   ]
  },
  {
   "cell_type": "code",
   "execution_count": 135,
   "metadata": {},
   "outputs": [],
   "source": [
    "class Account:\n",
    "    trans_counter = trans_ids(100)\n",
    "    def make_trans(self):\n",
    "        new_trans_id = next(Account.trans_counter)\n",
    "        return new_trans_id"
   ]
  },
  {
   "cell_type": "code",
   "execution_count": 136,
   "metadata": {},
   "outputs": [],
   "source": [
    "a1 = Account()\n",
    "a2 = Account()\n"
   ]
  },
  {
   "cell_type": "code",
   "execution_count": 137,
   "metadata": {},
   "outputs": [
    {
     "name": "stdout",
     "output_type": "stream",
     "text": [
      "101\n",
      "102\n",
      "103\n"
     ]
    }
   ],
   "source": [
    "print(a1.make_trans())\n",
    "print(a2.make_trans())\n",
    "print(a1.make_trans())"
   ]
  },
  {
   "cell_type": "code",
   "execution_count": 138,
   "metadata": {},
   "outputs": [],
   "source": [
    "import itertools\n",
    "class Account:\n",
    "    trans_counter = itertools.count(100)\n",
    "    def make_trans(self):\n",
    "        new_trans_id = next(Account.trans_counter)\n",
    "        return new_trans_id"
   ]
  },
  {
   "cell_type": "code",
   "execution_count": 139,
   "metadata": {},
   "outputs": [],
   "source": [
    "a1 = Account()\n",
    "a2 = Account()\n"
   ]
  },
  {
   "cell_type": "code",
   "execution_count": 140,
   "metadata": {},
   "outputs": [
    {
     "name": "stdout",
     "output_type": "stream",
     "text": [
      "100\n",
      "101\n",
      "102\n"
     ]
    }
   ],
   "source": [
    "print(a1.make_trans())\n",
    "print(a2.make_trans())\n",
    "print(a1.make_trans())"
   ]
  },
  {
   "cell_type": "code",
   "execution_count": 141,
   "metadata": {},
   "outputs": [],
   "source": [
    "class Account:\n",
    "    trans_counter = itertools.count(100)\n",
    "    def __init__(self, acc_num, fname, lname):\n",
    "        self._acc_num = acc_num\n",
    "        self.fname = fname\n",
    "        self.lname = lname\n",
    "        \n",
    "    @property\n",
    "    def acc_num(self):\n",
    "        return self._acc_num\n",
    "        \n",
    "    @property\n",
    "    def fname(self):\n",
    "        return self._fname\n",
    "        \n",
    "    @fname.setter\n",
    "    def fname(self, val):\n",
    "        self._fname = Account.val_name(val, 'fname')\n",
    "            \n",
    "    @property\n",
    "    def lname(self):\n",
    "        return self._lname\n",
    "        \n",
    "    @lname.setter\n",
    "    def lname(self, val):\n",
    "        self._lname = Account.val_name(val, 'lname')\n",
    "            \n",
    "    @staticmethod   \n",
    "    def val_name(val, field_title):\n",
    "        if val is None or len(str(val).strip()) == 0:\n",
    "            raise ValueError(f'{field_title} cant be empty.')\n",
    "        return str(val).strip()\n",
    "        \n",
    "        "
   ]
  },
  {
   "cell_type": "code",
   "execution_count": 142,
   "metadata": {},
   "outputs": [
    {
     "name": "stdout",
     "output_type": "stream",
     "text": [
      "lname cant be empty.\n"
     ]
    }
   ],
   "source": [
    "try:\n",
    "    a = Account('12345', 'john', None)\n",
    "except ValueError as ex:\n",
    "    print(ex)"
   ]
  },
  {
   "cell_type": "code",
   "execution_count": 143,
   "metadata": {},
   "outputs": [],
   "source": [
    "class Account:\n",
    "    trans_counter = itertools.count(100)\n",
    "    def __init__(self, acc_num, fname, lname,\n",
    "                timezone=None):\n",
    "        self._acc_num = acc_num\n",
    "        self.fname = fname\n",
    "        self.lname = lname\n",
    "        \n",
    "        if timezone is None:\n",
    "            timezone = TimeZone('UTC', 0,0)\n",
    "        self.timezone = timezone\n",
    "        \n",
    "    @property\n",
    "    def acc_num(self):\n",
    "        return self._acc_num\n",
    "        \n",
    "    @property\n",
    "    def fname(self):\n",
    "        return self._fname\n",
    "        \n",
    "    @fname.setter\n",
    "    def fname(self, val):\n",
    "        self.val_and_set_name('_fname', val, 'fname')\n",
    "            \n",
    "    @property\n",
    "    def lname(self):\n",
    "        return self._lname\n",
    "        \n",
    "    @lname.setter\n",
    "    def lname(self, val):\n",
    "        self.val_and_set_name('_lname', val, 'lname')\n",
    "        \n",
    "        \n",
    "    @property\n",
    "    def timezone(self):\n",
    "        return self._timezone\n",
    "    \n",
    "    @timezone.setter\n",
    "    def timezone(self, val):\n",
    "        if not isinstance(val, TimeZone):\n",
    "            raise ValueError('timez must be a valid timezone object')\n",
    "        self._timezone = val\n",
    "        \n",
    "    def  val_and_set_name(self, attr_name, val, field_title):\n",
    "        if val is None or len(str(val).strip()) == 0:\n",
    "            raise ValueError(f'{field_title} cant be empty.')\n",
    "        setattr(self, attr_name, val)\n",
    "        \n",
    "        "
   ]
  },
  {
   "cell_type": "code",
   "execution_count": 144,
   "metadata": {},
   "outputs": [
    {
     "name": "stdout",
     "output_type": "stream",
     "text": [
      "fname cant be empty.\n"
     ]
    }
   ],
   "source": [
    "try:\n",
    "    a = Account(12345, None, None)\n",
    "except ValueError as ex:\n",
    "    print(ex)"
   ]
  },
  {
   "cell_type": "code",
   "execution_count": 145,
   "metadata": {},
   "outputs": [],
   "source": [
    "a = Account(1234, 'alk', 'lol')"
   ]
  },
  {
   "cell_type": "code",
   "execution_count": 146,
   "metadata": {},
   "outputs": [
    {
     "data": {
      "text/plain": [
       "'alk'"
      ]
     },
     "execution_count": 146,
     "metadata": {},
     "output_type": "execute_result"
    }
   ],
   "source": [
    "a.fname"
   ]
  },
  {
   "cell_type": "code",
   "execution_count": 147,
   "metadata": {},
   "outputs": [
    {
     "data": {
      "text/plain": [
       "'lol'"
      ]
     },
     "execution_count": 147,
     "metadata": {},
     "output_type": "execute_result"
    }
   ],
   "source": [
    "a.lname"
   ]
  },
  {
   "cell_type": "code",
   "execution_count": 148,
   "metadata": {},
   "outputs": [],
   "source": [
    "a.fname = 'A'"
   ]
  },
  {
   "cell_type": "code",
   "execution_count": 149,
   "metadata": {},
   "outputs": [
    {
     "data": {
      "text/plain": [
       "'A'"
      ]
     },
     "execution_count": 149,
     "metadata": {},
     "output_type": "execute_result"
    }
   ],
   "source": [
    "a.fname"
   ]
  },
  {
   "cell_type": "code",
   "execution_count": 150,
   "metadata": {},
   "outputs": [
    {
     "name": "stdout",
     "output_type": "stream",
     "text": [
      "timez must be a valid timezone object\n"
     ]
    }
   ],
   "source": [
    "try:\n",
    "    a = Account('123', 'jij', 'plp', '-7:00')\n",
    "except ValueError as ex:\n",
    "    print(ex)"
   ]
  },
  {
   "cell_type": "code",
   "execution_count": 151,
   "metadata": {},
   "outputs": [],
   "source": [
    "a =Account('123', ' kok', 'lol')"
   ]
  },
  {
   "cell_type": "code",
   "execution_count": 152,
   "metadata": {},
   "outputs": [
    {
     "data": {
      "text/plain": [
       "TimeZone(name= 'UTC', off_hrs = 0 , off_mins = 0)"
      ]
     },
     "execution_count": 152,
     "metadata": {},
     "output_type": "execute_result"
    }
   ],
   "source": [
    "a.timezone"
   ]
  },
  {
   "cell_type": "code",
   "execution_count": 154,
   "metadata": {},
   "outputs": [],
   "source": [
    "class Account:\n",
    "    trans_counter = itertools.count(100)\n",
    "    def __init__(self, acc_num, fname, lname,\n",
    "                timezone=None, init_bal=0):\n",
    "        self._acc_num = acc_num\n",
    "        self.fname = fname\n",
    "        self.lname = lname\n",
    "        \n",
    "        if timezone is None:\n",
    "            timezone = TimeZone('UTC', 0,0)\n",
    "        self.timezone = timezone\n",
    "        \n",
    "        \n",
    "        self._bal = float(init_bal)\n",
    "        \n",
    "    @property\n",
    "    def acc_num(self):\n",
    "        return self._acc_num\n",
    "        \n",
    "    @property\n",
    "    def fname(self):\n",
    "        return self._fname\n",
    "        \n",
    "    @fname.setter\n",
    "    def fname(self, val):\n",
    "        self.val_and_set_name('_fname', val, 'fname')\n",
    "            \n",
    "    @property\n",
    "    def lname(self):\n",
    "        return self._lname\n",
    "        \n",
    "    @lname.setter\n",
    "    def lname(self, val):\n",
    "        self.val_and_set_name('_lname', val, 'lname')\n",
    "        \n",
    "    @property\n",
    "    def bal(self):\n",
    "        return self._bal\n",
    "        \n",
    "    @property\n",
    "    def timezone(self):\n",
    "        return self._timezone\n",
    "    \n",
    "    @timezone.setter\n",
    "    def timezone(self, val):\n",
    "        if not isinstance(val, TimeZone):\n",
    "            raise ValueError('timez must be a valid timezone object')\n",
    "        self._timezone = val\n",
    "        \n",
    "    def  val_and_set_name(self, attr_name, val, field_title):\n",
    "        if val is None or len(str(val).strip()) == 0:\n",
    "            raise ValueError(f'{field_title} cant be empty.')\n",
    "        setattr(self, attr_name, val)\n",
    "        \n",
    "        "
   ]
  },
  {
   "cell_type": "code",
   "execution_count": 155,
   "metadata": {},
   "outputs": [],
   "source": [
    "a = Account('123', 'kok', 'joj', init_bal= 100)"
   ]
  },
  {
   "cell_type": "code",
   "execution_count": 156,
   "metadata": {},
   "outputs": [
    {
     "name": "stdout",
     "output_type": "stream",
     "text": [
      "100.0\n"
     ]
    }
   ],
   "source": [
    "print(a.bal)"
   ]
  },
  {
   "cell_type": "code",
   "execution_count": 158,
   "metadata": {},
   "outputs": [
    {
     "name": "stdout",
     "output_type": "stream",
     "text": [
      "'int' object has no attribute 'bal'\n"
     ]
    }
   ],
   "source": [
    "try:\n",
    "    a.bal = 200\n",
    "except AttributeError as ex:\n",
    "    print(ex)"
   ]
  },
  {
   "cell_type": "code",
   "execution_count": 159,
   "metadata": {},
   "outputs": [],
   "source": [
    "class Account:\n",
    "    trans_counter = itertools.count(100)\n",
    "    int_rate = 0.5\n",
    "    def __init__(self, acc_num, fname, lname,\n",
    "                timezone=None, init_bal=0):\n",
    "        self._acc_num = acc_num\n",
    "        self.fname = fname\n",
    "        self.lname = lname\n",
    "        \n",
    "        if timezone is None:\n",
    "            timezone = TimeZone('UTC', 0,0)\n",
    "        self.timezone = timezone\n",
    "        \n",
    "        \n",
    "        self._bal = float(init_bal)\n",
    "        \n",
    "    @property\n",
    "    def acc_num(self):\n",
    "        return self._acc_num\n",
    "        \n",
    "    @property\n",
    "    def fname(self):\n",
    "        return self._fname\n",
    "        \n",
    "    @fname.setter\n",
    "    def fname(self, val):\n",
    "        self.val_and_set_name('_fname', val, 'fname')\n",
    "            \n",
    "    @property\n",
    "    def lname(self):\n",
    "        return self._lname\n",
    "        \n",
    "    @lname.setter\n",
    "    def lname(self, val):\n",
    "        self.val_and_set_name('_lname', val, 'lname')\n",
    "        \n",
    "    @property\n",
    "    def bal(self):\n",
    "        return self._bal\n",
    "        \n",
    "    @property\n",
    "    def timezone(self):\n",
    "        return self._timezone\n",
    "    \n",
    "    @timezone.setter\n",
    "    def timezone(self, val):\n",
    "        if not isinstance(val, TimeZone):\n",
    "            raise ValueError('timez must be a valid timezone object')\n",
    "        self._timezone = val\n",
    "        \n",
    "    def  val_and_set_name(self, attr_name, val, field_title):\n",
    "        if val is None or len(str(val).strip()) == 0:\n",
    "            raise ValueError(f'{field_title} cant be empty.')\n",
    "        setattr(self, attr_name, val)\n",
    "        \n",
    "        "
   ]
  },
  {
   "cell_type": "code",
   "execution_count": 160,
   "metadata": {},
   "outputs": [],
   "source": [
    "a1 = Account(1234, 'mok', 'lol')\n",
    "a2 = Account(2345, 'huh', 'lpl')\n"
   ]
  },
  {
   "cell_type": "code",
   "execution_count": 161,
   "metadata": {},
   "outputs": [
    {
     "data": {
      "text/plain": [
       "(0.5, 0.5)"
      ]
     },
     "execution_count": 161,
     "metadata": {},
     "output_type": "execute_result"
    }
   ],
   "source": [
    "c , a2. int_rate"
   ]
  },
  {
   "cell_type": "code",
   "execution_count": 162,
   "metadata": {},
   "outputs": [
    {
     "data": {
      "text/plain": [
       "0.5"
      ]
     },
     "execution_count": 162,
     "metadata": {},
     "output_type": "execute_result"
    }
   ],
   "source": [
    "Account.int_rate"
   ]
  },
  {
   "cell_type": "code",
   "execution_count": 163,
   "metadata": {},
   "outputs": [],
   "source": [
    "Account.int_rate = 10"
   ]
  },
  {
   "cell_type": "code",
   "execution_count": 164,
   "metadata": {},
   "outputs": [
    {
     "data": {
      "text/plain": [
       "(10, 10)"
      ]
     },
     "execution_count": 164,
     "metadata": {},
     "output_type": "execute_result"
    }
   ],
   "source": [
    "a1.int_rate , a2. int_rate"
   ]
  },
  {
   "cell_type": "code",
   "execution_count": 165,
   "metadata": {},
   "outputs": [],
   "source": [
    "a1.int_rate =100"
   ]
  },
  {
   "cell_type": "code",
   "execution_count": 166,
   "metadata": {},
   "outputs": [
    {
     "data": {
      "text/plain": [
       "(100, 10)"
      ]
     },
     "execution_count": 166,
     "metadata": {},
     "output_type": "execute_result"
    }
   ],
   "source": [
    "a1.int_rate , a2. int_rate"
   ]
  },
  {
   "cell_type": "code",
   "execution_count": 167,
   "metadata": {},
   "outputs": [
    {
     "data": {
      "text/plain": [
       "{'_acc_num': 1234,\n",
       " '_fname': 'mok',\n",
       " '_lname': 'lol',\n",
       " '_timezone': TimeZone(name= 'UTC', off_hrs = 0 , off_mins = 0),\n",
       " '_bal': 0.0,\n",
       " 'int_rate': 100}"
      ]
     },
     "execution_count": 167,
     "metadata": {},
     "output_type": "execute_result"
    }
   ],
   "source": [
    "a1.__dict__"
   ]
  },
  {
   "cell_type": "code",
   "execution_count": 168,
   "metadata": {},
   "outputs": [],
   "source": [
    "class Account:\n",
    "    trans_counter = itertools.count(100)\n",
    "    _int_rate = 0.5\n",
    "    def __init__(self, acc_num, fname, lname,\n",
    "                timezone=None, init_bal=0):\n",
    "        self._acc_num = acc_num\n",
    "        self.fname = fname\n",
    "        self.lname = lname\n",
    "        \n",
    "        if timezone is None:\n",
    "            timezone = TimeZone('UTC', 0,0)\n",
    "        self.timezone = timezone\n",
    "        \n",
    "        \n",
    "        self._bal = float(init_bal)\n",
    "        \n",
    "    @property\n",
    "    def acc_num(self):\n",
    "        return self._acc_num\n",
    "        \n",
    "    @property\n",
    "    def fname(self):\n",
    "        return self._fname\n",
    "        \n",
    "    @fname.setter\n",
    "    def fname(self, val):\n",
    "        self.val_and_set_name('_fname', val, 'fname')\n",
    "            \n",
    "    @property\n",
    "    def lname(self):\n",
    "        return self._lname\n",
    "        \n",
    "    @lname.setter\n",
    "    def lname(self, val):\n",
    "        self.val_and_set_name('_lname', val, 'lname')\n",
    "        \n",
    "    @property\n",
    "    def bal(self):\n",
    "        return self._bal\n",
    "        \n",
    "    @property\n",
    "    def timezone(self):\n",
    "        return self._timezone\n",
    "    \n",
    "    @timezone.setter\n",
    "    def timezone(self, val):\n",
    "        if not isinstance(val, TimeZone):\n",
    "            raise ValueError('timez must be a valid timezone object')\n",
    "        self._timezone = val\n",
    "        \n",
    "        \n",
    "    @classmethod\n",
    "    def get_int_rate(cls):\n",
    "        return cls._int_rate\n",
    "    \n",
    "    \n",
    "    @classmethod\n",
    "    def set_int_rate(cls, val):\n",
    "        if not isinstance(val, numbers.Real):\n",
    "            raise ValueError('int rate must be real')\n",
    "            \n",
    "        if val < 0:\n",
    "            raise ValueError('int rate cant be -ve')\n",
    "            \n",
    "        cls._int_rate = val\n",
    "        \n",
    "        \n",
    "    def  val_and_set_name(self, attr_name, val, field_title):\n",
    "        if val is None or len(str(val).strip()) == 0:\n",
    "            raise ValueError(f'{field_title} cant be empty.')\n",
    "        setattr(self, attr_name, val)\n",
    "        \n",
    "        "
   ]
  },
  {
   "cell_type": "code",
   "execution_count": 169,
   "metadata": {},
   "outputs": [
    {
     "data": {
      "text/plain": [
       "0.5"
      ]
     },
     "execution_count": 169,
     "metadata": {},
     "output_type": "execute_result"
    }
   ],
   "source": [
    "Account.get_int_rate()"
   ]
  },
  {
   "cell_type": "code",
   "execution_count": 170,
   "metadata": {},
   "outputs": [],
   "source": [
    "Account.set_int_rate(10)"
   ]
  },
  {
   "cell_type": "code",
   "execution_count": 171,
   "metadata": {},
   "outputs": [
    {
     "data": {
      "text/plain": [
       "10"
      ]
     },
     "execution_count": 171,
     "metadata": {},
     "output_type": "execute_result"
    }
   ],
   "source": [
    "Account.get_int_rate()"
   ]
  },
  {
   "cell_type": "code",
   "execution_count": 173,
   "metadata": {},
   "outputs": [
    {
     "name": "stdout",
     "output_type": "stream",
     "text": [
      "int rate cant be -ve\n"
     ]
    }
   ],
   "source": [
    "try:\n",
    "    Account.set_int_rate(-10)\n",
    "except ValueError as ex:\n",
    "    print(ex)"
   ]
  },
  {
   "cell_type": "code",
   "execution_count": 174,
   "metadata": {},
   "outputs": [],
   "source": [
    "class Account:\n",
    "    trans_counter = itertools.count(100)\n",
    "    _int_rate = 0.5\n",
    "    \n",
    "    \n",
    "    _trans_codes = {\n",
    "        'deposit': 'D',\n",
    "        'withdraw': 'W',\n",
    "        'interest': 'I',\n",
    "        'rejected': 'X'\n",
    "        \n",
    "    }\n",
    "    def __init__(self, acc_num, fname, lname,\n",
    "                timezone=None, init_bal=0):\n",
    "        self._acc_num = acc_num\n",
    "        self.fname = fname\n",
    "        self.lname = lname\n",
    "        \n",
    "        if timezone is None:\n",
    "            timezone = TimeZone('UTC', 0,0)\n",
    "        self.timezone = timezone\n",
    "        \n",
    "        \n",
    "        self._bal = float(init_bal)\n",
    "        \n",
    "    @property\n",
    "    def acc_num(self):\n",
    "        return self._acc_num\n",
    "        \n",
    "    @property\n",
    "    def fname(self):\n",
    "        return self._fname\n",
    "        \n",
    "    @fname.setter\n",
    "    def fname(self, val):\n",
    "        self.val_and_set_name('_fname', val, 'fname')\n",
    "            \n",
    "    @property\n",
    "    def lname(self):\n",
    "        return self._lname\n",
    "        \n",
    "    @lname.setter\n",
    "    def lname(self, val):\n",
    "        self.val_and_set_name('_lname', val, 'lname')\n",
    "        \n",
    "    @property\n",
    "    def bal(self):\n",
    "        return self._bal\n",
    "        \n",
    "    @property\n",
    "    def timezone(self):\n",
    "        return self._timezone\n",
    "    \n",
    "    @timezone.setter\n",
    "    def timezone(self, val):\n",
    "        if not isinstance(val, TimeZone):\n",
    "            raise ValueError('timez must be a valid timezone object')\n",
    "        self._timezone = val\n",
    "        \n",
    "        \n",
    "    @classmethod\n",
    "    def get_int_rate(cls):\n",
    "        return cls._int_rate\n",
    "    \n",
    "    \n",
    "    @classmethod\n",
    "    def set_int_rate(cls, val):\n",
    "        if not isinstance(val, numbers.Real):\n",
    "            raise ValueError('int rate must be real')\n",
    "            \n",
    "        if val < 0:\n",
    "            raise ValueError('int rate cant be -ve')\n",
    "            \n",
    "        cls._int_rate = val\n",
    "        \n",
    "        \n",
    "    def  val_and_set_name(self, attr_name, val, field_title):\n",
    "        if val is None or len(str(val).strip()) == 0:\n",
    "            raise ValueError(f'{field_title} cant be empty.')\n",
    "        setattr(self, attr_name, val)\n",
    "        \n",
    "        "
   ]
  },
  {
   "cell_type": "code",
   "execution_count": 175,
   "metadata": {},
   "outputs": [],
   "source": [
    "##CONFIRMATION CODES"
   ]
  },
  {
   "cell_type": "code",
   "execution_count": 176,
   "metadata": {},
   "outputs": [],
   "source": [
    "from datetime import datetime"
   ]
  },
  {
   "cell_type": "code",
   "execution_count": 178,
   "metadata": {},
   "outputs": [],
   "source": [
    "def gen_confirmation_code(acc_num, trans_id, trans_code):\n",
    "    dt_str = datetime.utcnow().strftime('%Y%m%d%H%M%S')\n",
    "    return f'{trans_code}--{acc_num}---{dt_str}--{trans_id}'"
   ]
  },
  {
   "cell_type": "code",
   "execution_count": 179,
   "metadata": {},
   "outputs": [
    {
     "data": {
      "text/plain": [
       "'X--123---20210215151253--1000'"
      ]
     },
     "execution_count": 179,
     "metadata": {},
     "output_type": "execute_result"
    }
   ],
   "source": [
    "gen_confirmation_code(123,1000,'X')"
   ]
  },
  {
   "cell_type": "code",
   "execution_count": 189,
   "metadata": {},
   "outputs": [],
   "source": [
    "class Account:\n",
    "    trans_counter = itertools.count(100)\n",
    "    _int_rate = 0.5\n",
    "    \n",
    "    \n",
    "    _trans_codes = {\n",
    "        'deposit': 'D',\n",
    "        'withdraw': 'W',\n",
    "        'interest': 'I',\n",
    "        'rejected': 'X'\n",
    "        \n",
    "    }\n",
    "    def __init__(self, acc_num, fname, lname,\n",
    "                timezone=None, init_bal=0):\n",
    "        self._acc_num = acc_num\n",
    "        self.fname = fname\n",
    "        self.lname = lname\n",
    "        \n",
    "        if timezone is None:\n",
    "            timezone = TimeZone('UTC', 0,0)\n",
    "        self.timezone = timezone\n",
    "        \n",
    "        \n",
    "        self._bal = float(init_bal)\n",
    "        \n",
    "    @property\n",
    "    def acc_num(self):\n",
    "        return self._acc_num\n",
    "        \n",
    "    @property\n",
    "    def fname(self):\n",
    "        return self._fname\n",
    "        \n",
    "    @fname.setter\n",
    "    def fname(self, val):\n",
    "        self.val_and_set_name('_fname', val, 'fname')\n",
    "            \n",
    "    @property\n",
    "    def lname(self):\n",
    "        return self._lname\n",
    "        \n",
    "    @lname.setter\n",
    "    def lname(self, val):\n",
    "        self.val_and_set_name('_lname', val, 'lname')\n",
    "        \n",
    "    @property\n",
    "    def bal(self):\n",
    "        return self._bal\n",
    "        \n",
    "    @property\n",
    "    def timezone(self):\n",
    "        return self._timezone\n",
    "    \n",
    "    @timezone.setter\n",
    "    def timezone(self, val):\n",
    "        if not isinstance(val, TimeZone):\n",
    "            raise ValueError('timez must be a valid timezone object')\n",
    "        self._timezone = val\n",
    "        \n",
    "        \n",
    "    @classmethod\n",
    "    def get_int_rate(cls):\n",
    "        return cls._int_rate\n",
    "    \n",
    "    \n",
    "    @classmethod\n",
    "    def set_int_rate(cls, val):\n",
    "        if not isinstance(val, numbers.Real):\n",
    "            raise ValueError('int rate must be real')\n",
    "            \n",
    "        if val < 0:\n",
    "            raise ValueError('int rate cant be -ve')\n",
    "            \n",
    "        cls._int_rate = val\n",
    "        \n",
    "    def gen_confirmation_code(self, trans_code):\n",
    "        dt_str = datetime.utcnow().strftime('%Y%m%d%H%M%S')\n",
    "        return f'{trans_code}--{self.acc_num}---{dt_str}--{next(Account.trans_counter)}'\n",
    "        \n",
    "        \n",
    "    def  val_and_set_name(self, attr_name, val, field_title):\n",
    "        if val is None or len(str(val).strip()) == 0:\n",
    "            raise ValueError(f'{field_title} cant be empty.')\n",
    "        setattr(self, attr_name, val)\n",
    "        \n",
    "    def make_trans(self):\n",
    "        return self.gen_confirmation_code('dummy')"
   ]
  },
  {
   "cell_type": "code",
   "execution_count": 181,
   "metadata": {},
   "outputs": [],
   "source": [
    "a = Account('A100', 'lol', 'kok')"
   ]
  },
  {
   "cell_type": "code",
   "execution_count": 182,
   "metadata": {},
   "outputs": [
    {
     "data": {
      "text/plain": [
       "'dummy--A100---20210215151636--100'"
      ]
     },
     "execution_count": 182,
     "metadata": {},
     "output_type": "execute_result"
    }
   ],
   "source": [
    "a.make_trans()"
   ]
  },
  {
   "cell_type": "code",
   "execution_count": 183,
   "metadata": {},
   "outputs": [
    {
     "data": {
      "text/plain": [
       "'dummy--A100---20210215151653--101'"
      ]
     },
     "execution_count": 183,
     "metadata": {},
     "output_type": "execute_result"
    }
   ],
   "source": [
    "a.make_trans()"
   ]
  },
  {
   "cell_type": "code",
   "execution_count": 184,
   "metadata": {},
   "outputs": [],
   "source": [
    "a2=Account('A200', 'joj', 'lol')"
   ]
  },
  {
   "cell_type": "code",
   "execution_count": 186,
   "metadata": {},
   "outputs": [
    {
     "data": {
      "text/plain": [
       "'dummy--A200---20210215151718--102'"
      ]
     },
     "execution_count": 186,
     "metadata": {},
     "output_type": "execute_result"
    }
   ],
   "source": [
    "a2.make_trans()"
   ]
  },
  {
   "cell_type": "code",
   "execution_count": 187,
   "metadata": {},
   "outputs": [
    {
     "data": {
      "text/plain": [
       "'dummy--A200---20210215151723--103'"
      ]
     },
     "execution_count": 187,
     "metadata": {},
     "output_type": "execute_result"
    }
   ],
   "source": [
    "a2.make_trans()"
   ]
  },
  {
   "cell_type": "code",
   "execution_count": 188,
   "metadata": {},
   "outputs": [],
   "source": [
    "from collections import namedtuple"
   ]
  },
  {
   "cell_type": "code",
   "execution_count": 190,
   "metadata": {},
   "outputs": [],
   "source": [
    "confirmation = namedtuple('confirmation', 'acc_num trans_code trans_id time_utc time')"
   ]
  },
  {
   "cell_type": "code",
   "execution_count": 287,
   "metadata": {},
   "outputs": [],
   "source": [
    "class Account:\n",
    "    trans_counter = itertools.count(100)\n",
    "    _int_rate = 0.5\n",
    "    \n",
    "    \n",
    "    _trans_codes = {\n",
    "        'deposit': 'D',\n",
    "        'withdraw': 'W',\n",
    "        'interest': 'I',\n",
    "        'rejected': 'X'\n",
    "        \n",
    "    }\n",
    "    def __init__(self, acc_num, fname, lname,\n",
    "                timezone=None, init_bal=0):\n",
    "        self._acc_num = acc_num\n",
    "        self.fname = fname\n",
    "        self.lname = lname\n",
    "        \n",
    "        if timezone is None:\n",
    "            timezone = TimeZone('UTC', 0,0)\n",
    "        self.timezone = timezone\n",
    "        \n",
    "        \n",
    "        self._bal = Account.val_real_num(init_bal,min_val=0)\n",
    "        \n",
    "    @property\n",
    "    def acc_num(self):\n",
    "        return self._acc_num\n",
    "        \n",
    "    @property\n",
    "    def fname(self):\n",
    "        return self._fname\n",
    "        \n",
    "    @fname.setter\n",
    "    def fname(self, val):\n",
    "        self.val_and_set_name('_fname', val, 'fname')\n",
    "            \n",
    "    @property\n",
    "    def lname(self):\n",
    "        return self._lname\n",
    "        \n",
    "    @lname.setter\n",
    "    def lname(self, val):\n",
    "        self.val_and_set_name('_lname', val, 'lname')\n",
    "        \n",
    "    @property\n",
    "    def bal(self):\n",
    "        return self._bal\n",
    "        \n",
    "    @property\n",
    "    def timezone(self):\n",
    "        return self._timezone\n",
    "    \n",
    "    @timezone.setter\n",
    "    def timezone(self, val):\n",
    "        if not isinstance(val, TimeZone):\n",
    "            raise ValueError('timez must be a valid timezone object')\n",
    "        self._timezone = val\n",
    "        \n",
    "        \n",
    "    @classmethod\n",
    "    def get_int_rate(cls):\n",
    "        return cls._int_rate\n",
    "    \n",
    "    \n",
    "    @classmethod\n",
    "    def set_int_rate(cls, val):\n",
    "        if not isinstance(val, numbers.Real):\n",
    "            raise ValueError('int rate must be real')\n",
    "            \n",
    "        if val < 0:\n",
    "            raise ValueError('int rate cant be -ve')\n",
    "            \n",
    "        cls._int_rate = val\n",
    "        \n",
    "        \n",
    "    @staticmethod\n",
    "    def val_real_num(val, min_val = None):\n",
    "        if not isinstance(val, numbers.Real):\n",
    "            raise ValueError('Value must be a real')\n",
    "            \n",
    "        if min_val is not None and val < min_val:\n",
    "            raise ValueError(f'value must be atleast {min_val}')\n",
    "            \n",
    "        return val\n",
    "        \n",
    "    def gen_confirmation_code(self, trans_code):\n",
    "        dt_str = datetime.utcnow().strftime('%Y%m%d%H%M%S')\n",
    "        return f'{trans_code}-{self.acc_num}-{dt_str}-{next(Account.trans_counter)}'\n",
    "        \n",
    "        \n",
    "    def  val_and_set_name(self, attr_name, val, field_title):\n",
    "        if val is None or len(str(val).strip()) == 0:\n",
    "            raise ValueError(f'{field_title} cant be empty.')\n",
    "        setattr(self, attr_name, val)\n",
    "        \n",
    "    def make_trans(self):\n",
    "        return self.gen_confirmation_code('dummy')\n",
    "    \n",
    "    \n",
    "    @staticmethod\n",
    "    def parse_confirm_code(confirm_code, pref_time_zone=None):\n",
    "        #dummy-A100-20190305145530-101\n",
    "        parts=confirm_code.split('-')\n",
    "        if len(parts) !=4:\n",
    "            raise ValueError('invalid confirmation code')\n",
    "        trans_code, acc_num, raw_dt_utc, trans_id = parts\n",
    "        \n",
    "        try:\n",
    "            dt_utc=datetime.strptime(raw_dt_utc, '%Y%m%d%H%M%S')\n",
    "            \n",
    "        except ValueError as ex:\n",
    "            raise ValueError('invalid trans datetime') from ex \n",
    "            \n",
    "        if pref_time_zone is None:\n",
    "            pref_time_zone = TimeZone('UTC', 0,0)\n",
    "        \n",
    "        if not isinstance(pref_time_zone, TimeZone):\n",
    "            raise ValueError('invalid timezone')\n",
    "            \n",
    "        \n",
    "        dt_pref = dt_utc +pref_time_zone.offset\n",
    "        dt_pref_str = f\"{dt_pref.strftime('%Y-%m-%d %H:%M:%S')} ({pref_time_zone.name})\"\n",
    "        \n",
    "        \n",
    "        return confirmation(acc_num, trans_code, trans_id,dt_utc.isoformat(), dt_pref_str)\n",
    "\n",
    "    def deposit(self, val):\n",
    "        val = Account.val_real_num(val,0.01)\n",
    "        trans_code = Account._trans_codes['deposit']\n",
    "        conf_code = self.gen_confirmation_code(trans_code)\n",
    "        self._bal += val\n",
    "        return conf_code\n",
    "    \n",
    "    def withdraw(self, val):\n",
    "        val = Account.val_real_num(val,0.01)\n",
    "        \n",
    "        accepted = False\n",
    "        if self.bal - val< 0:\n",
    "            #insuff funds\n",
    "            trans_code = Account._trans_codes['rejected']\n",
    "        else:\n",
    "            accepted = True\n",
    "            trans_code = Account._trans_codes['withdraw']\n",
    "            \n",
    "        conf_code = self.gen_confirmation_code(trans_code)\n",
    "        if accepted:\n",
    "            self._bal -= val\n",
    "        return conf_code\n",
    "    \n",
    "    def pay_int(self):\n",
    "        interest = self.bal * Account.get_int_rate() /100\n",
    "        conf_code = self.gen_confirmation_code(self._trans_codes['interest'])\n",
    "        self._bal += interest\n",
    "        return conf_code\n",
    "        "
   ]
  },
  {
   "cell_type": "code",
   "execution_count": 225,
   "metadata": {},
   "outputs": [],
   "source": [
    "a = Account('A100', 'erio', 'idle', init_bal = 100)"
   ]
  },
  {
   "cell_type": "code",
   "execution_count": 210,
   "metadata": {},
   "outputs": [
    {
     "data": {
      "text/plain": [
       "confirmation(acc_num='A100', trans_code='dummy', trans_id='100', time_utc='2021-02-15T15:56:20', time='2021-02-15 14:56:20 (XYZ)')"
      ]
     },
     "execution_count": 210,
     "metadata": {},
     "output_type": "execute_result"
    }
   ],
   "source": [
    "Account.parse_confirm_code(conf_code, pref_time_zone=TimeZone('XYZ', -1,0))"
   ]
  },
  {
   "cell_type": "code",
   "execution_count": 211,
   "metadata": {},
   "outputs": [
    {
     "name": "stdout",
     "output_type": "stream",
     "text": [
      "invalid trans datetime\n",
      "unconverted data remains: 55\n"
     ]
    }
   ],
   "source": [
    "try:\n",
    "    Account.parse_confirm_code('dummy-A100-20211315155055-100')\n",
    "    \n",
    "except ValueError as ex:\n",
    "    print(ex)\n",
    "    print(ex.__cause__)"
   ]
  },
  {
   "cell_type": "code",
   "execution_count": 226,
   "metadata": {},
   "outputs": [
    {
     "data": {
      "text/plain": [
       "100.0"
      ]
     },
     "execution_count": 226,
     "metadata": {},
     "output_type": "execute_result"
    }
   ],
   "source": [
    "a.bal"
   ]
  },
  {
   "cell_type": "code",
   "execution_count": 229,
   "metadata": {},
   "outputs": [],
   "source": [
    "try:\n",
    "    a.withdraw(20)\n",
    "except ValueError as ex:\n",
    "    print(ex)"
   ]
  },
  {
   "cell_type": "code",
   "execution_count": 230,
   "metadata": {},
   "outputs": [
    {
     "data": {
      "text/plain": [
       "'D-A100-20210215162124-101'"
      ]
     },
     "execution_count": 230,
     "metadata": {},
     "output_type": "execute_result"
    }
   ],
   "source": [
    "a.deposit(100)"
   ]
  },
  {
   "cell_type": "code",
   "execution_count": 231,
   "metadata": {},
   "outputs": [
    {
     "data": {
      "text/plain": [
       "180.0"
      ]
     },
     "execution_count": 231,
     "metadata": {},
     "output_type": "execute_result"
    }
   ],
   "source": [
    "a.bal"
   ]
  },
  {
   "cell_type": "code",
   "execution_count": 232,
   "metadata": {},
   "outputs": [
    {
     "data": {
      "text/plain": [
       "'W-A100-20210215162126-102'"
      ]
     },
     "execution_count": 232,
     "metadata": {},
     "output_type": "execute_result"
    }
   ],
   "source": [
    "a.withdraw(150)"
   ]
  },
  {
   "cell_type": "code",
   "execution_count": 233,
   "metadata": {},
   "outputs": [
    {
     "data": {
      "text/plain": [
       "30.0"
      ]
     },
     "execution_count": 233,
     "metadata": {},
     "output_type": "execute_result"
    }
   ],
   "source": [
    "a.bal"
   ]
  },
  {
   "cell_type": "code",
   "execution_count": 234,
   "metadata": {},
   "outputs": [
    {
     "data": {
      "text/plain": [
       "'X-A100-20210215162129-103'"
      ]
     },
     "execution_count": 234,
     "metadata": {},
     "output_type": "execute_result"
    }
   ],
   "source": [
    "a.withdraw(200)"
   ]
  },
  {
   "cell_type": "code",
   "execution_count": 236,
   "metadata": {},
   "outputs": [],
   "source": [
    "####     Unit Testing"
   ]
  },
  {
   "cell_type": "code",
   "execution_count": 243,
   "metadata": {},
   "outputs": [
    {
     "name": "stdout",
     "output_type": "stream",
     "text": [
      "100.0\n",
      "D-A100-20210215172329-100\n",
      "250.02\n",
      "W-A100-20210215172329-101\n",
      "250.0\n",
      "1.0\n",
      "I-A100-20210215172329-102\n",
      "252.5\n",
      "X-A100-20210215172329-103\n"
     ]
    }
   ],
   "source": [
    "a = Account('A100', 'eric', 'idle', timezone = TimeZone('MST', -7, 0), init_bal =100)\n",
    "\n",
    "print(a.bal)\n",
    "print(a.deposit(150.02))\n",
    "print(a.bal)\n",
    "print(a.withdraw(0.02))\n",
    "print(a.bal)\n",
    "\n",
    "Account.set_int_rate(1.0)\n",
    "print(a.get_int_rate())\n",
    "print(a.pay_int())\n",
    "print(a.bal)\n",
    "print(a.withdraw(1000))\n"
   ]
  },
  {
   "cell_type": "code",
   "execution_count": 244,
   "metadata": {},
   "outputs": [],
   "source": [
    "import unittest"
   ]
  },
  {
   "cell_type": "code",
   "execution_count": 257,
   "metadata": {},
   "outputs": [],
   "source": [
    "def run_tests(test_cls):\n",
    "    suite = unittest.TestLoader().loadTestsFromTestCase(test_cls)\n",
    "    runner = unittest.TextTestRunner(verbosity=2)\n",
    "    runner.run(suite)"
   ]
  },
  {
   "cell_type": "code",
   "execution_count": 260,
   "metadata": {},
   "outputs": [],
   "source": [
    "class TestAccount(unittest.TestCase):\n",
    "    def setUp(self):\n",
    "        print('running setup..')\n",
    "        self.x = 100\n",
    "        \n",
    "        \n",
    "    def tearDown(self):\n",
    "        print('running teardown')\n",
    "        \n",
    "        \n",
    "    def test_1(self):\n",
    "        self.x  =200\n",
    "        self.assertEqual(200,self.x)\n",
    "        \n",
    "        \n",
    "    def test_2(self):\n",
    "        self.assertEqual(200, self.x)\n",
    "    "
   ]
  },
  {
   "cell_type": "code",
   "execution_count": 261,
   "metadata": {},
   "outputs": [
    {
     "name": "stderr",
     "output_type": "stream",
     "text": [
      "test_1 (__main__.TestAccount) ... ok\n",
      "test_2 (__main__.TestAccount) ... "
     ]
    },
    {
     "name": "stdout",
     "output_type": "stream",
     "text": [
      "running setup..\n",
      "running teardown\n",
      "running setup..\n",
      "running teardown\n"
     ]
    },
    {
     "name": "stderr",
     "output_type": "stream",
     "text": [
      "FAIL\n",
      "\n",
      "======================================================================\n",
      "FAIL: test_2 (__main__.TestAccount)\n",
      "----------------------------------------------------------------------\n",
      "Traceback (most recent call last):\n",
      "  File \"<ipython-input-260-7615dbc64c77>\", line 17, in test_2\n",
      "    self.assertEqual(200, self.x)\n",
      "AssertionError: 200 != 100\n",
      "\n",
      "----------------------------------------------------------------------\n",
      "Ran 2 tests in 0.004s\n",
      "\n",
      "FAILED (failures=1)\n"
     ]
    }
   ],
   "source": [
    "run_tests(TestAccount)"
   ]
  },
  {
   "cell_type": "code",
   "execution_count": 325,
   "metadata": {},
   "outputs": [],
   "source": [
    "from datetime import timedelta, datetime\n",
    "class TestAccount(unittest.TestCase):\n",
    "    \n",
    "    def setUp(self):\n",
    "        self.acc_num ='A100'\n",
    "        self.fname = 'FIRST'\n",
    "        self.lname = 'LAST'\n",
    "        self.tz = TimeZone('TZ', 1, 30)\n",
    "        self.bal=100.00\n",
    "        \n",
    "        \n",
    "    def create_acc(self):\n",
    "        return Account(self.acc_num, self.fname, self.lname, self.tz, self.bal)\n",
    "        \n",
    "    \n",
    "    def test_create_tz(self):\n",
    "        tz = TimeZone('ABC', -1, -30)\n",
    "        self.assertEqual('ABC', tz.name)\n",
    "        self.assertEqual(timedelta(hours = -1, minutes=-30), tz.offset)\n",
    "        \n",
    "    \n",
    "    def test_tz_eq(self):\n",
    "        tz1 = TimeZone('ABC', -1, -30)\n",
    "        tz2 = TimeZone('ABC', -1, -30)\n",
    "        self.assertEqual(tz1, tz2)\n",
    "        \n",
    "    def test_tz_not_eq(self):\n",
    "        tz = TimeZone('ABC', -1, -30)\n",
    "        \n",
    "        test_tzs = (\n",
    "            TimeZone('DEF', -1, -30),\n",
    "            TimeZone('ABC', -1, -0),\n",
    "            TimeZone('ABC', 1, -30)\n",
    "            \n",
    "        )\n",
    "        for i,  test_tz in enumerate(test_tzs):\n",
    "            with self.subTest(test_name = f'Test # {i}'):\n",
    "                self.assertNotEqual(tz, test_tz)\n",
    "                \n",
    "                \n",
    "                \n",
    "    def test_create_acc(self):\n",
    "        a = self.create_acc()\n",
    "        self.assertEqual(self.acc_num, a.acc_num)\n",
    "        self.assertEqual(self.fname, a.fname)\n",
    "        self.assertEqual(self.lname, a.lname)\n",
    "        self.assertEqual(self.tz, a.timezone)\n",
    "        self.assertEqual(self.bal, a.bal)\n",
    "        \n",
    "        \n",
    "    def test_Create_acc_blank_fname(self):\n",
    "        self.fname = ''\n",
    "        with self.assertRaises(ValueError):\n",
    "            a = self.create_acc()\n",
    "            \n",
    "    def test_create_acc_neg_bal(self):\n",
    "        self.bal=-100.00\n",
    "        with self.assertRaises(ValueError):\n",
    "            a = self.create_acc()\n",
    "        \n",
    "    def test_acc_withdraw_ok(self):\n",
    "        acc_num = 'A100'\n",
    "        fname = 'FIRST'\n",
    "        lname = 'LAST'\n",
    "        tz = TimeZone('TZ', 1, 30)\n",
    "        bal=100.00\n",
    "        withdrawl_am = 20\n",
    "        \n",
    "        \n",
    "        a = Account(acc_num, fname, lname, init_bal=bal)\n",
    "        conf_code = a.withdraw(withdrawl_am)\n",
    "        self.assertTrue(conf_code.startswith('W-'))\n",
    "        self.assertEqual(bal - withdrawl_am, a.bal)\n",
    "        \n",
    "        \n",
    "    def test_acc_withdraw_oversraw(self):\n",
    "        acc_num = 'A100'\n",
    "        fname = 'FIRST'\n",
    "        lname = 'LAST'\n",
    "        tz = TimeZone('TZ', 1, 30)\n",
    "        bal=100.00\n",
    "        withdrawl_am = 200\n",
    "        \n",
    "        \n",
    "        a = Account(acc_num, fname, lname, init_bal=bal)\n",
    "        conf_code = a.withdraw(withdrawl_am)\n",
    "        self.assertTrue(conf_code.startswith('X-'))\n",
    "        self.assertEqual(bal, a.bal)\n",
    "        \n",
    "        \n",
    "        \n",
    "        \n",
    "        \n",
    "        \n",
    "        \n",
    "            \n",
    "            \n",
    "            \n",
    "       "
   ]
  },
  {
   "cell_type": "code",
   "execution_count": 326,
   "metadata": {},
   "outputs": [
    {
     "name": "stderr",
     "output_type": "stream",
     "text": [
      "test_Create_acc_blank_fname (__main__.TestAccount) ... ok\n",
      "test_acc_withdraw_ok (__main__.TestAccount) ... ok\n",
      "test_acc_withdraw_oversraw (__main__.TestAccount) ... ok\n",
      "test_create_acc (__main__.TestAccount) ... ok\n",
      "test_create_acc_neg_bal (__main__.TestAccount) ... ok\n",
      "test_create_tz (__main__.TestAccount) ... ok\n",
      "test_tz_eq (__main__.TestAccount) ... ok\n",
      "test_tz_not_eq (__main__.TestAccount) ... ok\n",
      "\n",
      "----------------------------------------------------------------------\n",
      "Ran 8 tests in 0.018s\n",
      "\n",
      "OK\n"
     ]
    }
   ],
   "source": [
    "run_tests(TestAccount)"
   ]
  },
  {
   "cell_type": "code",
   "execution_count": null,
   "metadata": {},
   "outputs": [],
   "source": [
    " "
   ]
  },
  {
   "cell_type": "code",
   "execution_count": null,
   "metadata": {},
   "outputs": [],
   "source": []
  },
  {
   "cell_type": "code",
   "execution_count": null,
   "metadata": {},
   "outputs": [],
   "source": []
  }
 ],
 "metadata": {
  "kernelspec": {
   "display_name": "Python 3",
   "language": "python",
   "name": "python3"
  },
  "language_info": {
   "codemirror_mode": {
    "name": "ipython",
    "version": 3
   },
   "file_extension": ".py",
   "mimetype": "text/x-python",
   "name": "python",
   "nbconvert_exporter": "python",
   "pygments_lexer": "ipython3",
   "version": "3.9.0"
  }
 },
 "nbformat": 4,
 "nbformat_minor": 4
}
