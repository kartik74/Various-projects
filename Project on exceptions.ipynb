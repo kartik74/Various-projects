{
 "cells": [
  {
   "cell_type": "code",
   "execution_count": 1,
   "metadata": {},
   "outputs": [],
   "source": [
    "from datetime import datetime"
   ]
  },
  {
   "cell_type": "code",
   "execution_count": 2,
   "metadata": {},
   "outputs": [],
   "source": [
    "class WidgetExc(Exception):\n",
    "    msg = 'generic widget exce' #class attr , def internal msg\n",
    "    \n",
    "    def __init__(self, *args, custom_msg = None):\n",
    "        super().__init__(args)\n",
    "        if args:\n",
    "            self.msg = args[0]\n",
    "        self.custom_msg = custom_msg if custom_msg is not None else self.msg\n",
    "        \n",
    "    def log_exc(self):\n",
    "        exc = {\n",
    "            \"type\": type(self).__name__, #type is mentioned here so that it can take the class name\n",
    "            \"msg\": self.msg,\n",
    "            \"args\": self.args[1:]\n",
    "        }\n",
    "        \n",
    "        print(f'EXCEPTION: {datetime.utcnow().isoformat()}: {exc}')\n",
    "        "
   ]
  },
  {
   "cell_type": "code",
   "execution_count": 3,
   "metadata": {},
   "outputs": [],
   "source": [
    "ex1 = WidgetExc('some custome msg', 10, 100)\n",
    "ex2 = WidgetExc(custom_msg='A custom user msg')"
   ]
  },
  {
   "cell_type": "code",
   "execution_count": 6,
   "metadata": {},
   "outputs": [
    {
     "name": "stdout",
     "output_type": "stream",
     "text": [
      "EXCEPTION: 2021-02-24T20:51:44.973503: {'type': 'WidgetExc', 'msg': 'some custome msg', 'args': ()}\n"
     ]
    }
   ],
   "source": [
    "ex1.log_exc()"
   ]
  },
  {
   "cell_type": "code",
   "execution_count": 7,
   "metadata": {},
   "outputs": [
    {
     "name": "stdout",
     "output_type": "stream",
     "text": [
      "EXCEPTION: 2021-02-24T20:51:56.943915: {'type': 'WidgetExc', 'msg': 'generic widget exce', 'args': ()}\n"
     ]
    }
   ],
   "source": [
    "ex2.log_exc()"
   ]
  },
  {
   "cell_type": "code",
   "execution_count": 8,
   "metadata": {},
   "outputs": [],
   "source": [
    "class SupplierExc(WidgetExc):\n",
    "    msg = 'supplier exception'\n",
    "    \n",
    "class NotManuExc(SupplierExc):\n",
    "    msg = 'Widget is no longer manu by supplier'\n",
    "    \n",
    "class ProdDelayExc(SupplierExc):\n",
    "    msg = 'widget production has been delayed by the manu'\n",
    "    \n",
    "class ShippingDelExc(SupplierExc):\n",
    "    msg = 'Widget shipping has been dealyed by the supplier'\n",
    "\n",
    "class CheckOutExc(WidgetExc):\n",
    "    msg = 'Check out exception'\n",
    "\n",
    "class InventExc(CheckOutExc):\n",
    "    msg = 'check out inventory exception'\n",
    "    \n",
    "class OutOfStockExc(InventExc):\n",
    "    msg = 'inventory out of stock'\n",
    "    \n",
    "class PricingExc(CheckOutExc):\n",
    "    msg = 'checkout pricing exception'\n",
    "    \n",
    "class InvalidCCExc(PricingExc):\n",
    "    msg = 'invalid checkout coupon code'\n",
    "    \n",
    "class CannotStackExc(PricingExc):\n",
    "    msg = 'cannot stack coupon code'\n",
    "    \n"
   ]
  },
  {
   "cell_type": "code",
   "execution_count": 9,
   "metadata": {},
   "outputs": [
    {
     "name": "stdout",
     "output_type": "stream",
     "text": [
      "EXCEPTION: 2021-02-24T20:57:59.996272: {'type': 'CannotStackExc', 'msg': 'cannot stack coupon code', 'args': ()}\n"
     ]
    },
    {
     "ename": "CannotStackExc",
     "evalue": "()",
     "output_type": "error",
     "traceback": [
      "\u001b[1;31m---------------------------------------------------------------------------\u001b[0m",
      "\u001b[1;31mCannotStackExc\u001b[0m                            Traceback (most recent call last)",
      "\u001b[1;32m<ipython-input-9-e6af7a4654d4>\u001b[0m in \u001b[0;36m<module>\u001b[1;34m\u001b[0m\n\u001b[0;32m      1\u001b[0m \u001b[1;32mtry\u001b[0m\u001b[1;33m:\u001b[0m\u001b[1;33m\u001b[0m\u001b[1;33m\u001b[0m\u001b[0m\n\u001b[1;32m----> 2\u001b[1;33m     \u001b[1;32mraise\u001b[0m \u001b[0mCannotStackExc\u001b[0m\u001b[1;33m(\u001b[0m\u001b[1;33m)\u001b[0m\u001b[1;33m\u001b[0m\u001b[1;33m\u001b[0m\u001b[0m\n\u001b[0m\u001b[0;32m      3\u001b[0m \u001b[1;32mexcept\u001b[0m \u001b[0mCannotStackExc\u001b[0m \u001b[1;32mas\u001b[0m \u001b[0mex\u001b[0m\u001b[1;33m:\u001b[0m\u001b[1;33m\u001b[0m\u001b[1;33m\u001b[0m\u001b[0m\n\u001b[0;32m      4\u001b[0m     \u001b[0mex\u001b[0m\u001b[1;33m.\u001b[0m\u001b[0mlog_exc\u001b[0m\u001b[1;33m(\u001b[0m\u001b[1;33m)\u001b[0m\u001b[1;33m\u001b[0m\u001b[1;33m\u001b[0m\u001b[0m\n\u001b[0;32m      5\u001b[0m     \u001b[1;32mraise\u001b[0m\u001b[1;33m\u001b[0m\u001b[1;33m\u001b[0m\u001b[0m\n",
      "\u001b[1;31mCannotStackExc\u001b[0m: ()"
     ]
    }
   ],
   "source": [
    "try:\n",
    "    raise CannotStackExc()\n",
    "except CannotStackExc as ex:\n",
    "    ex.log_exc()\n",
    "    raise "
   ]
  },
  {
   "cell_type": "code",
   "execution_count": 11,
   "metadata": {},
   "outputs": [],
   "source": [
    "import json"
   ]
  },
  {
   "cell_type": "code",
   "execution_count": 10,
   "metadata": {},
   "outputs": [],
   "source": [
    "from http import HTTPStatus"
   ]
  },
  {
   "cell_type": "code",
   "execution_count": 12,
   "metadata": {},
   "outputs": [],
   "source": [
    "class WidgetExc(Exception):\n",
    "    msg = 'generic widget exce' #class attr , def internal msg\n",
    "    http_status = HTTPStatus.INTERNAL_SERVER_ERROR\n",
    "    \n",
    "    def __init__(self, *args, custom_msg = None):\n",
    "        super().__init__(args)\n",
    "        if args:\n",
    "            self.msg = args[0]\n",
    "        self.custom_msg = custom_msg if custom_msg is not None else self.msg\n",
    "        \n",
    "    def log_exc(self):\n",
    "        exc = {\n",
    "            \"type\": type(self).__name__, #type is mentioned here so that it can take the class name\n",
    "            \"msg\": self.msg,\n",
    "            \"args\": self.args[1:]\n",
    "        }\n",
    "        \n",
    "        print(f'EXCEPTION: {datetime.utcnow().isoformat()}: {exc}')\n",
    "        \n",
    "    \n",
    "    def to_json(self):\n",
    "        response = {\n",
    "            'code': self.http_status.value,\n",
    "            'msg': '{}: {}'.format(self.http_status.phrase, self.custom_msg),\n",
    "            'category': type(self).__name__,\n",
    "            'time_utc':datetime.utcnow().isoformat()\n",
    "        }\n",
    "        return json.dumps(response)\n",
    "    "
   ]
  },
  {
   "cell_type": "code",
   "execution_count": 13,
   "metadata": {},
   "outputs": [],
   "source": [
    "e = WidgetExc('same custom msg for log and user')"
   ]
  },
  {
   "cell_type": "code",
   "execution_count": 15,
   "metadata": {},
   "outputs": [
    {
     "name": "stdout",
     "output_type": "stream",
     "text": [
      "EXCEPTION: 2021-02-24T21:03:26.644250: {'type': 'WidgetExc', 'msg': 'same custom msg for log and user', 'args': ()}\n"
     ]
    }
   ],
   "source": [
    "e.log_exc()"
   ]
  },
  {
   "cell_type": "code",
   "execution_count": 17,
   "metadata": {},
   "outputs": [
    {
     "data": {
      "text/plain": [
       "{'code': 500,\n",
       " 'msg': 'Internal Server Error: same custom msg for log and user',\n",
       " 'category': 'WidgetExc',\n",
       " 'time_utc': '2021-02-24T21:03:50.936902'}"
      ]
     },
     "execution_count": 17,
     "metadata": {},
     "output_type": "execute_result"
    }
   ],
   "source": [
    "json.loads(e.to_json())"
   ]
  },
  {
   "cell_type": "code",
   "execution_count": 18,
   "metadata": {},
   "outputs": [],
   "source": [
    "e = WidgetExc('custom internal msg', custom_msg= 'custom user msg')"
   ]
  },
  {
   "cell_type": "code",
   "execution_count": 19,
   "metadata": {},
   "outputs": [
    {
     "name": "stdout",
     "output_type": "stream",
     "text": [
      "EXCEPTION: 2021-02-24T21:04:47.304873: {'type': 'WidgetExc', 'msg': 'custom internal msg', 'args': ()}\n"
     ]
    }
   ],
   "source": [
    "e.log_exc()"
   ]
  },
  {
   "cell_type": "code",
   "execution_count": 20,
   "metadata": {},
   "outputs": [
    {
     "data": {
      "text/plain": [
       "'{\"code\": 500, \"msg\": \"Internal Server Error: custom user msg\", \"category\": \"WidgetExc\", \"time_utc\": \"2021-02-24T21:04:56.005408\"}'"
      ]
     },
     "execution_count": 20,
     "metadata": {},
     "output_type": "execute_result"
    }
   ],
   "source": [
    "e.to_json()"
   ]
  },
  {
   "cell_type": "code",
   "execution_count": 22,
   "metadata": {},
   "outputs": [
    {
     "name": "stdout",
     "output_type": "stream",
     "text": [
      "<traceback object at 0x0000020AAB0A5F80>\n"
     ]
    }
   ],
   "source": [
    "try:\n",
    "    raise WidgetExc('custom error msg')\n",
    "except WidgetExc as ex:\n",
    "    print(repr(ex.__traceback__))"
   ]
  },
  {
   "cell_type": "code",
   "execution_count": 23,
   "metadata": {},
   "outputs": [],
   "source": [
    "import traceback"
   ]
  },
  {
   "cell_type": "code",
   "execution_count": 25,
   "metadata": {},
   "outputs": [
    {
     "name": "stdout",
     "output_type": "stream",
     "text": [
      "['Traceback (most recent call last):\\n', '  File \"<ipython-input-25-4755370c58d1>\", line 2, in <module>\\n    raise ValueError\\n', 'ValueError\\n', '\\nDuring handling of the above exception, another exception occurred:\\n\\n', 'Traceback (most recent call last):\\n', '  File \"<ipython-input-25-4755370c58d1>\", line 5, in <module>\\n    raise WidgetExc(\\'custome msg\\')\\n', \"WidgetExc: ('custome msg',)\\n\"]\n"
     ]
    }
   ],
   "source": [
    "try:\n",
    "    raise ValueError\n",
    "except ValueError:\n",
    "    try:\n",
    "        raise WidgetExc('custome msg')\n",
    "    except WidgetExc as ex:\n",
    "        tb = traceback.TracebackException.from_exception(ex)\n",
    "        print(list(tb.format()))"
   ]
  },
  {
   "cell_type": "code",
   "execution_count": 26,
   "metadata": {},
   "outputs": [
    {
     "name": "stdout",
     "output_type": "stream",
     "text": [
      "Traceback (most recent call last):\n",
      "  File \"<ipython-input-26-d14c63b87aa1>\", line 2, in <module>\n",
      "    raise ValueError\n",
      "ValueError\n",
      "\n",
      "During handling of the above exception, another exception occurred:\n",
      "\n",
      "Traceback (most recent call last):\n",
      "  File \"<ipython-input-26-d14c63b87aa1>\", line 5, in <module>\n",
      "    raise WidgetExc('custome msg')\n",
      "WidgetExc: ('custome msg',)\n",
      "\n"
     ]
    }
   ],
   "source": [
    "try:\n",
    "    raise ValueError\n",
    "except ValueError:\n",
    "    try:\n",
    "        raise WidgetExc('custome msg')\n",
    "    except WidgetExc as ex:\n",
    "        tb = traceback.TracebackException.from_exception(ex)\n",
    "        tb = ''.join(tb.format())\n",
    "        print(tb)"
   ]
  },
  {
   "cell_type": "code",
   "execution_count": 28,
   "metadata": {},
   "outputs": [
    {
     "ename": "WidgetExc",
     "evalue": "('custome msg',)",
     "output_type": "error",
     "traceback": [
      "\u001b[1;31m---------------------------------------------------------------------------\u001b[0m",
      "\u001b[1;31mValueError\u001b[0m                                Traceback (most recent call last)",
      "\u001b[1;32m<ipython-input-28-ee855182694b>\u001b[0m in \u001b[0;36m<module>\u001b[1;34m\u001b[0m\n\u001b[0;32m      1\u001b[0m \u001b[1;32mtry\u001b[0m\u001b[1;33m:\u001b[0m\u001b[1;33m\u001b[0m\u001b[1;33m\u001b[0m\u001b[0m\n\u001b[1;32m----> 2\u001b[1;33m     \u001b[1;32mraise\u001b[0m \u001b[0mValueError\u001b[0m\u001b[1;33m\u001b[0m\u001b[1;33m\u001b[0m\u001b[0m\n\u001b[0m\u001b[0;32m      3\u001b[0m \u001b[1;32mexcept\u001b[0m \u001b[0mValueError\u001b[0m\u001b[1;33m:\u001b[0m\u001b[1;33m\u001b[0m\u001b[1;33m\u001b[0m\u001b[0m\n",
      "\u001b[1;31mValueError\u001b[0m: ",
      "\nDuring handling of the above exception, another exception occurred:\n",
      "\u001b[1;31mWidgetExc\u001b[0m                                 Traceback (most recent call last)",
      "\u001b[1;32m<ipython-input-28-ee855182694b>\u001b[0m in \u001b[0;36m<module>\u001b[1;34m\u001b[0m\n\u001b[0;32m      2\u001b[0m     \u001b[1;32mraise\u001b[0m \u001b[0mValueError\u001b[0m\u001b[1;33m\u001b[0m\u001b[1;33m\u001b[0m\u001b[0m\n\u001b[0;32m      3\u001b[0m \u001b[1;32mexcept\u001b[0m \u001b[0mValueError\u001b[0m\u001b[1;33m:\u001b[0m\u001b[1;33m\u001b[0m\u001b[1;33m\u001b[0m\u001b[0m\n\u001b[1;32m----> 4\u001b[1;33m     \u001b[1;32mraise\u001b[0m \u001b[0mWidgetExc\u001b[0m\u001b[1;33m(\u001b[0m\u001b[1;34m'custome msg'\u001b[0m\u001b[1;33m)\u001b[0m\u001b[1;33m\u001b[0m\u001b[1;33m\u001b[0m\u001b[0m\n\u001b[0m\u001b[0;32m      5\u001b[0m \u001b[1;33m\u001b[0m\u001b[0m\n",
      "\u001b[1;31mWidgetExc\u001b[0m: ('custome msg',)"
     ]
    }
   ],
   "source": [
    "try:\n",
    "    raise ValueError\n",
    "except ValueError:\n",
    "    raise WidgetExc('custome msg')\n",
    "   "
   ]
  },
  {
   "cell_type": "code",
   "execution_count": 31,
   "metadata": {},
   "outputs": [],
   "source": [
    "class WidgetExc(Exception):\n",
    "    msg = 'generic widget exce' #class attr , def internal msg\n",
    "    http_status = HTTPStatus.INTERNAL_SERVER_ERROR\n",
    "    \n",
    "    def __init__(self, *args, custom_msg = None):\n",
    "        super().__init__(args)\n",
    "        if args:\n",
    "            self.msg = args[0]\n",
    "        self.custom_msg = custom_msg if custom_msg is not None else self.msg\n",
    "        \n",
    "    @property\n",
    "    def traceback(self):\n",
    "        return traceback.TracebackException.from_exception(self).format()\n",
    "    \n",
    "        \n",
    "    def log_exc(self):\n",
    "        exc = {\n",
    "            \"type\": type(self).__name__, #type is mentioned here so that it can take the class name\n",
    "            \"msg\": self.msg,\n",
    "            \"args\": self.args[1:],\n",
    "            \"traceback\": list(self.traceback)\n",
    "        }\n",
    "        \n",
    "        print(f'EXCEPTION: {datetime.utcnow().isoformat()}: {exc}')\n",
    "        \n",
    "    \n",
    "    def to_json(self):\n",
    "        response = {\n",
    "            'code': self.http_status.value,\n",
    "            'msg': '{}: {}'.format(self.http_status.phrase, self.custom_msg),\n",
    "            'category': type(self).__name__,\n",
    "            'time_utc':datetime.utcnow().isoformat()\n",
    "        }\n",
    "        return json.dumps(response)\n",
    "    "
   ]
  },
  {
   "cell_type": "code",
   "execution_count": 33,
   "metadata": {},
   "outputs": [
    {
     "name": "stdout",
     "output_type": "stream",
     "text": [
      "EXCEPTION: 2021-02-24T21:17:03.481563: {'type': 'WidgetExc', 'msg': 'generic widget exce', 'args': (), 'traceback': ['Traceback (most recent call last):\\n', '  File \"<ipython-input-33-b936ba42604c>\", line 2, in <module>\\n    raise WidgetExc()\\n', 'WidgetExc: ()\\n']}\n",
      "--------------\n",
      "{\"code\": 500, \"msg\": \"Internal Server Error: generic widget exce\", \"category\": \"WidgetExc\", \"time_utc\": \"2021-02-24T21:17:03.482560\"}\n"
     ]
    }
   ],
   "source": [
    "try:\n",
    "    raise WidgetExc()\n",
    "except WidgetExc as ex:\n",
    "    ex.log_exc()\n",
    "    print('--------------')\n",
    "    print(ex.to_json())"
   ]
  },
  {
   "cell_type": "code",
   "execution_count": 34,
   "metadata": {},
   "outputs": [
    {
     "name": "stdout",
     "output_type": "stream",
     "text": [
      "Traceback (most recent call last):\n",
      "  File \"<ipython-input-34-6c709a45c8a7>\", line 2, in <module>\n",
      "    a = 1/0\n",
      "ZeroDivisionError: division by zero\n",
      "\n",
      "During handling of the above exception, another exception occurred:\n",
      "\n",
      "Traceback (most recent call last):\n",
      "  File \"<ipython-input-34-6c709a45c8a7>\", line 5, in <module>\n",
      "    raise WidgetExc()\n",
      "WidgetExc: ()\n",
      "\n"
     ]
    }
   ],
   "source": [
    "try:\n",
    "    a = 1/0\n",
    "except ZeroDivisionError:\n",
    "    try:\n",
    "        raise WidgetExc()\n",
    "    except WidgetExc as ex:\n",
    "        print(''.join(ex.traceback))"
   ]
  },
  {
   "cell_type": "code",
   "execution_count": 35,
   "metadata": {},
   "outputs": [],
   "source": [
    "class SupplierExc(WidgetExc):\n",
    "    msg = 'supplier exception'\n",
    "    \n",
    "class NotManuExc(SupplierExc):\n",
    "    msg = 'Widget is no longer manu by supplier'\n",
    "    \n",
    "class ProdDelayExc(SupplierExc):\n",
    "    msg = 'widget production has been delayed by the manu'\n",
    "    \n",
    "class ShippingDelExc(SupplierExc):\n",
    "    msg = 'Widget shipping has been dealyed by the supplier'\n",
    "\n",
    "class CheckOutExc(WidgetExc):\n",
    "    msg = 'Check out exception'\n",
    "\n",
    "class InventExc(CheckOutExc):\n",
    "    msg = 'check out inventory exception'\n",
    "    \n",
    "class OutOfStockExc(InventExc):\n",
    "    msg = 'inventory out of stock'\n",
    "    \n",
    "class PricingExc(CheckOutExc):\n",
    "    msg = 'checkout pricing exception'\n",
    "    \n",
    "class InvalidCCExc(PricingExc):\n",
    "    msg = 'invalid checkout coupon code'\n",
    "    \n",
    "class CannotStackExc(PricingExc):\n",
    "    msg = 'cannot stack coupon code'"
   ]
  },
  {
   "cell_type": "code",
   "execution_count": 36,
   "metadata": {},
   "outputs": [],
   "source": [
    "e = InvalidCCExc(\n",
    "    'user tried to pull fast one upon us', \n",
    "    custom_msg='sorry this coupon is not valid')"
   ]
  },
  {
   "cell_type": "code",
   "execution_count": 37,
   "metadata": {},
   "outputs": [
    {
     "name": "stdout",
     "output_type": "stream",
     "text": [
      "EXCEPTION: 2021-02-24T21:19:24.239719: {'type': 'InvalidCCExc', 'msg': 'user tried to pull fast one upon us', 'args': (), 'traceback': [\"InvalidCCExc: ('user tried to pull fast one upon us',)\\n\"]}\n"
     ]
    }
   ],
   "source": [
    "e.log_exc()"
   ]
  },
  {
   "cell_type": "code",
   "execution_count": 38,
   "metadata": {},
   "outputs": [
    {
     "data": {
      "text/plain": [
       "'{\"code\": 500, \"msg\": \"Internal Server Error: sorry this coupon is not valid\", \"category\": \"InvalidCCExc\", \"time_utc\": \"2021-02-24T21:19:50.671624\"}'"
      ]
     },
     "execution_count": 38,
     "metadata": {},
     "output_type": "execute_result"
    }
   ],
   "source": [
    "e.to_json()"
   ]
  },
  {
   "cell_type": "code",
   "execution_count": 41,
   "metadata": {},
   "outputs": [
    {
     "name": "stdout",
     "output_type": "stream",
     "text": [
      "EXCEPTION: 2021-02-24T21:22:43.665783: {'type': 'InvalidCCExc', 'msg': 'user tried to pull fast one upon us', 'args': (), 'traceback': ['Traceback (most recent call last):\\n', '  File \"<ipython-input-41-fd142d380331>\", line 2, in <module>\\n    raise ValueError\\n', 'ValueError\\n', '\\nDuring handling of the above exception, another exception occurred:\\n\\n', 'Traceback (most recent call last):\\n', '  File \"<ipython-input-41-fd142d380331>\", line 5, in <module>\\n    raise InvalidCCExc(\\n', \"InvalidCCExc: ('user tried to pull fast one upon us',)\\n\"]}\n",
      "------------\n",
      "<bound method WidgetExc.to_json of InvalidCCExc(('user tried to pull fast one upon us',))>\n",
      "---------\n",
      "Traceback (most recent call last):\n",
      "  File \"<ipython-input-41-fd142d380331>\", line 2, in <module>\n",
      "    raise ValueError\n",
      "ValueError\n",
      "\n",
      "During handling of the above exception, another exception occurred:\n",
      "\n",
      "Traceback (most recent call last):\n",
      "  File \"<ipython-input-41-fd142d380331>\", line 5, in <module>\n",
      "    raise InvalidCCExc(\n",
      "InvalidCCExc: ('user tried to pull fast one upon us',)\n",
      "\n"
     ]
    }
   ],
   "source": [
    "try:\n",
    "    raise ValueError\n",
    "except ValueError:\n",
    "    try:\n",
    "        raise InvalidCCExc(\n",
    "            'user tried to pull fast one upon us', \n",
    "            custom_msg='sorry this coupon is not valid')\n",
    "        \n",
    "    except InvalidCCExc as ex:\n",
    "        ex.log_exc()\n",
    "        print('------------')\n",
    "        print(ex.to_json)\n",
    "        print('---------')\n",
    "        print(''.join(ex.traceback))"
   ]
  },
  {
   "cell_type": "code",
   "execution_count": null,
   "metadata": {},
   "outputs": [],
   "source": []
  }
 ],
 "metadata": {
  "kernelspec": {
   "display_name": "Python 3",
   "language": "python",
   "name": "python3"
  },
  "language_info": {
   "codemirror_mode": {
    "name": "ipython",
    "version": 3
   },
   "file_extension": ".py",
   "mimetype": "text/x-python",
   "name": "python",
   "nbconvert_exporter": "python",
   "pygments_lexer": "ipython3",
   "version": "3.9.0"
  }
 },
 "nbformat": 4,
 "nbformat_minor": 4
}
