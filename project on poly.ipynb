{
 "cells": [
  {
   "cell_type": "code",
   "execution_count": 1,
   "metadata": {},
   "outputs": [],
   "source": [
    "from functools import total_ordering"
   ]
  },
  {
   "cell_type": "code",
   "execution_count": 7,
   "metadata": {},
   "outputs": [
    {
     "ename": "SyntaxError",
     "evalue": "invalid syntax (<ipython-input-7-84df90147454>, line 39)",
     "output_type": "error",
     "traceback": [
      "\u001b[1;36m  File \u001b[1;32m\"<ipython-input-7-84df90147454>\"\u001b[1;36m, line \u001b[1;32m39\u001b[0m\n\u001b[1;33m    elif isinstance(other, int):\u001b[0m\n\u001b[1;37m    ^\u001b[0m\n\u001b[1;31mSyntaxError\u001b[0m\u001b[1;31m:\u001b[0m invalid syntax\n"
     ]
    }
   ],
   "source": [
    "@total_ordering\n",
    "class Mod:\n",
    "    def __init__(self, val, mod):\n",
    "        if not isinstance(mod, int):\n",
    "            raise TypeError('unsupported')\n",
    "        if not isinstance(val, int):\n",
    "            raise TypeError('unsupported')\n",
    "            \n",
    "        if mod <=0:\n",
    "            raise ValueError('modu be +ve')\n",
    "            \n",
    "        self._mod = mod\n",
    "        self._val = val % mod\n",
    "        \n",
    "    @property\n",
    "    def mod(self):\n",
    "        return self._mod\n",
    "    @property\n",
    "    def val(self):\n",
    "        return self._val\n",
    "    \n",
    "    @val.setter\n",
    "    def val(self, val):\n",
    "        self._val = val\n",
    "    \n",
    "    def __repr__(self):\n",
    "        return f'Mod({self.val}, {self.mod})'\n",
    "    \n",
    "    def __int__(self):\n",
    "        return self.val\n",
    "    \n",
    "    def __eq__(self, other):\n",
    "        if isinstance(other, MOd):\n",
    "            if self.mod!=other.mod:\n",
    "                return NotImplemented\n",
    "            else:\n",
    "                return self.val == other.val\n",
    "            \n",
    "            elif isinstance(other, int):\n",
    "                return other % self.mod == self.val\n",
    "            else:\n",
    "                return NotImplemented\n",
    "            \n",
    "    def __hash__(self):\n",
    "        return hash((self.val, self.mod))\n",
    "    \n",
    "    def __neg__(self):\n",
    "        return Mod(-self.val, self. mod)\n",
    "    \n",
    "    def __add__(self, other):\n",
    "        if isinstance(other, Mod) and self.mod == other.mod:\n",
    "            return Mod(self.val + other.val, self.mod)\n",
    "        if isinstance(other, int):\n",
    "            return Mod(self.val + other, self.mod)\n",
    "        \n",
    "        return NotImplemented\n",
    "    \n",
    "    def __sub__(self, other):\n",
    "        if isinstance(other, Mod) and self.mod == other.mod:\n",
    "            return Mod(self.val - other.val, self.mod)\n",
    "        if isinstance(other, int):\n",
    "            return Mod(self.val - other, self.mod)\n",
    "        \n",
    "        return NotImplemented\n",
    "    \n",
    "    def __mul__(self, other):\n",
    "        if isinstance(other, Mod) and self.mod == other.mod:\n",
    "            return Mod(self.val * other.val, self.mod)\n",
    "        if isinstance(other, int):\n",
    "            return Mod(self.val * other, self.mod)\n",
    "        \n",
    "        return NotImplemented\n",
    "    \n",
    "    \n",
    "    def __pow__(self, other):\n",
    "        if isinstance(other, Mod) and self.mod == other.mod:\n",
    "            return Mod(self.val ** other.val, self.mod)\n",
    "        if isinstance(other, int):\n",
    "            return Mod(self.val ** (other & self.mod), self.mod)\n",
    "        \n",
    "        return NotImplemented\n",
    "    \n",
    "    \n",
    "    \n",
    "        \n",
    "            \n",
    "    \n",
    "    \n",
    "        \n",
    "        "
   ]
  },
  {
   "cell_type": "code",
   "execution_count": null,
   "metadata": {},
   "outputs": [],
   "source": []
  }
 ],
 "metadata": {
  "kernelspec": {
   "display_name": "Python 3",
   "language": "python",
   "name": "python3"
  },
  "language_info": {
   "codemirror_mode": {
    "name": "ipython",
    "version": 3
   },
   "file_extension": ".py",
   "mimetype": "text/x-python",
   "name": "python",
   "nbconvert_exporter": "python",
   "pygments_lexer": "ipython3",
   "version": "3.9.0"
  }
 },
 "nbformat": 4,
 "nbformat_minor": 4
}
