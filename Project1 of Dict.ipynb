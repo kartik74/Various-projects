{
 "cells": [
  {
   "cell_type": "code",
   "execution_count": 16,
   "metadata": {},
   "outputs": [],
   "source": [
    "def match_keys(data, valid, path):\n",
    "    data_keys = data.keys()\n",
    "    valid_keys = valid.keys()\n",
    "    \n",
    "    extra_keys = data_keys - valid_keys\n",
    "    missing_keys = valid_keys - data_keys\n",
    "    \n",
    "    if missing_keys or extra_keys:\n",
    "        missing_msg = ('missing keys: '+ \n",
    "                      ', '.join({path + '.' + str(key)\n",
    "                               for key in missing_keys})\n",
    "                      ) if missing_keys else ''\n",
    "        extras_msg = ('extra keys: ' +\n",
    "                     ', '.join({path + '.' + str(key)\n",
    "                              for key in extra_keys})\n",
    "                     ) if extra_keys else ''\n",
    "        \n",
    "        return False, ' '.join((missing_msg, extras_msg))\n",
    "    else:\n",
    "        return True, None"
   ]
  },
  {
   "cell_type": "code",
   "execution_count": 32,
   "metadata": {},
   "outputs": [],
   "source": [
    "john = {\n",
    "    'user_id': 100,\n",
    "    'name': {\n",
    "        'first': 'John',\n",
    "        'last': 'Cleese'\n",
    "    },\n",
    "    'bio': {\n",
    "        'dob': {\n",
    "            'year': 1939,\n",
    "            'month': 11,\n",
    "            'day': 27\n",
    "        },\n",
    "        'birthplace': {\n",
    "            'country': 'United Kingdom',\n",
    "            'city': 'Weston-super-Mare'\n",
    "        }\n",
    "    }\n",
    "}"
   ]
  },
  {
   "cell_type": "code",
   "execution_count": 33,
   "metadata": {},
   "outputs": [],
   "source": [
    "temp = {\n",
    "    'user_id': int,\n",
    "    'name': {\n",
    "        'first': str,\n",
    "        'last': str\n",
    "    },\n",
    "    'bio': {\n",
    "        'dob': {\n",
    "            'year': int,\n",
    "            'month': int,\n",
    "            'day': int\n",
    "        },\n",
    "        'birthplace': {\n",
    "            'country': str,\n",
    "            'city': str\n",
    "        }\n",
    "    }\n",
    "}"
   ]
  },
  {
   "cell_type": "code",
   "execution_count": 35,
   "metadata": {},
   "outputs": [],
   "source": [
    "eric = {\n",
    "    'user_id': 101,\n",
    "    'name': {\n",
    "        'first': 'Eric',\n",
    "        'last': 'Idle'\n",
    "    },\n",
    "    'bio': {\n",
    "        'dob': {\n",
    "            'year': 1943,\n",
    "            'month': 3,\n",
    "            'day': 29\n",
    "        },\n",
    "        'birthplace': {\n",
    "            'country': 'United Kingdom'\n",
    "        }\n",
    "    }\n",
    "}"
   ]
  },
  {
   "cell_type": "code",
   "execution_count": 38,
   "metadata": {},
   "outputs": [],
   "source": [
    "michael = {\n",
    "    'user_id': 102,\n",
    "    'name': {\n",
    "        'first': 'Michael',\n",
    "        'last': 'Palin'\n",
    "    },\n",
    "    'bio': {\n",
    "        'dob': {\n",
    "            'year': 1943,\n",
    "            'month': 'May',\n",
    "            'day': 5\n",
    "        },\n",
    "        'birthplace': {\n",
    "            'country': 'United Kingdom',\n",
    "            'city': 'Sheffield'\n",
    "        }\n",
    "    }\n",
    "}"
   ]
  },
  {
   "cell_type": "code",
   "execution_count": 17,
   "metadata": {},
   "outputs": [
    {
     "name": "stdout",
     "output_type": "stream",
     "text": [
      "True None\n"
     ]
    }
   ],
   "source": [
    "t = {'a': int, 'b': int, 'c': int, 'd': {}}\n",
    "d = {'a': 'wrong type', 'b': 100, 'c': 200, 'd': {'wrong', 'type'}}\n",
    "is_ok, err_msg = match_keys(d,t,'some.path')\n",
    "print(is_ok, err_msg)"
   ]
  },
  {
   "cell_type": "code",
   "execution_count": 18,
   "metadata": {},
   "outputs": [
    {
     "name": "stdout",
     "output_type": "stream",
     "text": [
      "False missing keys: some.path.d \n"
     ]
    }
   ],
   "source": [
    "d = {'a': None, 'b': None, 'c': None}\n",
    "is_ok, err_msg = match_keys(d,t,'some.path')\n",
    "print(is_ok, err_msg)"
   ]
  },
  {
   "cell_type": "code",
   "execution_count": 19,
   "metadata": {},
   "outputs": [
    {
     "name": "stdout",
     "output_type": "stream",
     "text": [
      "False missing keys: some.path.d extra keys: some.path.e\n"
     ]
    }
   ],
   "source": [
    "d = {'a': None, 'b': None, 'c': None,  'e': None}\n",
    "is_ok, err_msg = match_keys(d,t,'some.path')\n",
    "print(is_ok, err_msg)"
   ]
  },
  {
   "cell_type": "code",
   "execution_count": 20,
   "metadata": {
    "scrolled": true
   },
   "outputs": [
    {
     "name": "stdout",
     "output_type": "stream",
     "text": [
      "False missing keys: some.path.d, some.path.c extra keys: some.path.e, some.path.f\n"
     ]
    }
   ],
   "source": [
    "d = {'a':None, 'b':None, 'e': None, 'f': None}\n",
    "is_ok, err_msg = match_keys(d,t,'some.path')\n",
    "print(is_ok, err_msg)"
   ]
  },
  {
   "cell_type": "code",
   "execution_count": 27,
   "metadata": {},
   "outputs": [],
   "source": [
    "def match_types(data, temp, path):\n",
    "    for k, v in temp.items():\n",
    "        if isinstance(v, dict):\n",
    "            temp_type = dict\n",
    "        else:\n",
    "            temp_type = v\n",
    "        data_val = data.get(k,object())\n",
    "        \n",
    "        if not isinstance(data_val, temp_type):\n",
    "            error_msg = ('incorrect type: ' +path+ '.'+ k\n",
    "                        + '--> expected ' + temp_type.__name__+\n",
    "                        ', found ' + type(data_val).__name__)\n",
    "            return False, error_msg\n",
    "    return True, None"
   ]
  },
  {
   "cell_type": "code",
   "execution_count": 28,
   "metadata": {},
   "outputs": [
    {
     "data": {
      "text/plain": [
       "(True, None)"
      ]
     },
     "execution_count": 28,
     "metadata": {},
     "output_type": "execute_result"
    }
   ],
   "source": [
    "t = {'a': int, 'b': str, 'c': {'d': int}}\n",
    "d = {'a':100, 'b': 'test', 'c': {'some': 'val'}}\n",
    "match_types(d,t,'some.path')"
   ]
  },
  {
   "cell_type": "code",
   "execution_count": 29,
   "metadata": {},
   "outputs": [
    {
     "data": {
      "text/plain": [
       "(False, 'incorrect type: some.path.c--> expected dict, found str')"
      ]
     },
     "execution_count": 29,
     "metadata": {},
     "output_type": "execute_result"
    }
   ],
   "source": [
    "d = {'a':100, 'b': 'test', 'c': 'unexpected'}\n",
    "match_types(d,t,'some.path')"
   ]
  },
  {
   "cell_type": "code",
   "execution_count": 30,
   "metadata": {},
   "outputs": [
    {
     "data": {
      "text/plain": [
       "(False, 'incorrect type: some.path.b--> expected str, found int')"
      ]
     },
     "execution_count": 30,
     "metadata": {},
     "output_type": "execute_result"
    }
   ],
   "source": [
    "d = {'a':100, 'b': 200, 'c': {}}\n",
    "match_types(d,t,'some.path')"
   ]
  },
  {
   "cell_type": "code",
   "execution_count": 31,
   "metadata": {},
   "outputs": [],
   "source": [
    "def recurse_val(data, temp, path):\n",
    "    is_ok, error_msg = match_keys(data, temp, path)\n",
    "    if not is_ok:\n",
    "        return False, error_msg\n",
    "    \n",
    "    is_ok, error_msg = match_types(data, temp,path)\n",
    "    if not is_ok:\n",
    "        return False, error_msg\n",
    "    \n",
    "    diction_type_keys = {key for key, val in temp.items()\n",
    "                        if isinstance(val,dict)}\n",
    "    \n",
    "    for key in diction_type_keys:\n",
    "        sub_path = path + '.' + str(key)\n",
    "        sub_temp = temp[key]\n",
    "        sub_data = data[key]\n",
    "        is_ok, error_msg = recurse_val(sub_data, sub_temp, sub_path)\n",
    "        if not is_ok:\n",
    "            return False, error_msg\n",
    "        \n",
    "        \n",
    "    return True, None"
   ]
  },
  {
   "cell_type": "code",
   "execution_count": 34,
   "metadata": {},
   "outputs": [
    {
     "name": "stdout",
     "output_type": "stream",
     "text": [
      "True None\n"
     ]
    }
   ],
   "source": [
    "is_ok, error_msg = recurse_val(john, temp, 'root')\n",
    "print(is_ok, error_msg)"
   ]
  },
  {
   "cell_type": "code",
   "execution_count": 36,
   "metadata": {},
   "outputs": [
    {
     "name": "stdout",
     "output_type": "stream",
     "text": [
      "False missing keys: root.bio.birthplace.city \n"
     ]
    }
   ],
   "source": [
    "is_ok, error_msg = recurse_val(eric, temp, 'root')\n",
    "print(is_ok, error_msg)"
   ]
  },
  {
   "cell_type": "code",
   "execution_count": 39,
   "metadata": {},
   "outputs": [
    {
     "name": "stdout",
     "output_type": "stream",
     "text": [
      "False incorrect type: root.bio.dob.month--> expected int, found str\n"
     ]
    }
   ],
   "source": [
    "is_ok, error_msg = recurse_val(michael, temp, 'root')\n",
    "print(is_ok, error_msg)"
   ]
  },
  {
   "cell_type": "code",
   "execution_count": 40,
   "metadata": {},
   "outputs": [],
   "source": [
    "def val(data, temp):\n",
    "    return recurse_val(data, temp, '')"
   ]
  },
  {
   "cell_type": "code",
   "execution_count": 41,
   "metadata": {},
   "outputs": [],
   "source": [
    "persons = (john, 'John'), (eric, 'Eric'), (michael, 'Michael')"
   ]
  },
  {
   "cell_type": "code",
   "execution_count": 44,
   "metadata": {},
   "outputs": [
    {
     "name": "stdout",
     "output_type": "stream",
     "text": [
      "John: valid=True: None\n",
      "Eric: valid=False: missing keys: .bio.birthplace.city \n",
      "Michael: valid=False: incorrect type: .bio.dob.month--> expected int, found str\n"
     ]
    }
   ],
   "source": [
    "for person, name in persons:\n",
    "    is_ok, error_msg = val(person, temp)\n",
    "    print(f'{name}: valid={is_ok}: {error_msg}')"
   ]
  },
  {
   "cell_type": "code",
   "execution_count": 45,
   "metadata": {},
   "outputs": [],
   "source": [
    "class SchemaError(Exception):\n",
    "    pass"
   ]
  },
  {
   "cell_type": "code",
   "execution_count": 46,
   "metadata": {},
   "outputs": [],
   "source": [
    "def val(data, temp):\n",
    "    is_ok, error_msg = recurse_val(data, temp, '')\n",
    "    if not is_ok:\n",
    "        raise SchemaError(error_msg)"
   ]
  },
  {
   "cell_type": "code",
   "execution_count": 48,
   "metadata": {},
   "outputs": [],
   "source": [
    "val(john, temp)"
   ]
  },
  {
   "cell_type": "code",
   "execution_count": 50,
   "metadata": {},
   "outputs": [
    {
     "name": "stdout",
     "output_type": "stream",
     "text": [
      "Validation failed missing keys: .bio.birthplace.city \n"
     ]
    }
   ],
   "source": [
    "try:\n",
    "    for person, name in persons:\n",
    "        val(person, temp)\n",
    "except SchemaError as ex:\n",
    "    print('Validation failed',  str(ex))"
   ]
  },
  {
   "cell_type": "code",
   "execution_count": 53,
   "metadata": {},
   "outputs": [],
   "source": [
    "class SchemaKeyMismatch(SchemaError):\n",
    "    pass\n",
    "\n",
    "class SchemaTypeMismatch(SchemaError, TypeError):\n",
    "    pass"
   ]
  },
  {
   "cell_type": "code",
   "execution_count": 58,
   "metadata": {},
   "outputs": [],
   "source": [
    "def match_keys(data, valid, path):\n",
    "    data_keys = data.keys()\n",
    "    valid_keys = valid.keys()\n",
    "    \n",
    "    extra_keys = data_keys - valid_keys\n",
    "    missing_keys = valid_keys - data_keys\n",
    "    \n",
    "    if missing_keys or extra_keys:\n",
    "        missing_msg = ('missing keys: '+ \n",
    "                      ', '.join({path + '.' + str(key)\n",
    "                               for key in missing_keys})\n",
    "                      ) if missing_keys else ''\n",
    "        extras_msg = ('extra keys: ' +\n",
    "                     ', '.join({path + '.' + str(key)\n",
    "                              for key in extra_keys})\n",
    "                     ) if extra_keys else ''\n",
    "        raise SchemaKeyMismatch(' '.join((missing_msg, extras_msg)))"
   ]
  },
  {
   "cell_type": "code",
   "execution_count": 59,
   "metadata": {},
   "outputs": [],
   "source": [
    "def match_types(data, temp, path):\n",
    "    for k, v in temp.items():\n",
    "        if isinstance(v, dict):\n",
    "            temp_type = dict\n",
    "        else:\n",
    "            temp_type = v\n",
    "        data_val = data.get(k,object())\n",
    "        \n",
    "        if not isinstance(data_val, temp_type):\n",
    "            error_msg = ('incorrect type: ' +path+ '.'+ k\n",
    "                        + '--> expected ' + temp_type.__name__+\n",
    "                        ', found ' + type(data_val).__name__)\n",
    "            raise SchemaTypeMismatch(error_msg)"
   ]
  },
  {
   "cell_type": "code",
   "execution_count": 60,
   "metadata": {},
   "outputs": [],
   "source": [
    "def recurse_val(data, temp, path):\n",
    "    match_keys(data, temp, path)\n",
    "    match_types(data, temp,path)\n",
    "    diction_type_keys = {key for key, val in temp.items()\n",
    "                        if isinstance(val,dict)}\n",
    "    \n",
    "    for key in diction_type_keys:\n",
    "        sub_path = path + '.' + str(key)\n",
    "        sub_temp = temp[key]\n",
    "        sub_data = data[key]\n",
    "        recurse_val(sub_data, sub_temp, sub_path)"
   ]
  },
  {
   "cell_type": "code",
   "execution_count": 61,
   "metadata": {},
   "outputs": [],
   "source": [
    "def val(data, temp):\n",
    "    recurse_val(data, temp, '')"
   ]
  },
  {
   "cell_type": "code",
   "execution_count": 63,
   "metadata": {},
   "outputs": [],
   "source": [
    "val(john,temp)"
   ]
  },
  {
   "cell_type": "code",
   "execution_count": 65,
   "metadata": {},
   "outputs": [
    {
     "ename": "SchemaKeyMismatch",
     "evalue": "missing keys: .bio.birthplace.city ",
     "output_type": "error",
     "traceback": [
      "\u001b[1;31m---------------------------------------------------------------------------\u001b[0m",
      "\u001b[1;31mSchemaKeyMismatch\u001b[0m                         Traceback (most recent call last)",
      "\u001b[1;32m<ipython-input-65-70e054a54c81>\u001b[0m in \u001b[0;36m<module>\u001b[1;34m\u001b[0m\n\u001b[1;32m----> 1\u001b[1;33m \u001b[0mval\u001b[0m\u001b[1;33m(\u001b[0m\u001b[0meric\u001b[0m\u001b[1;33m,\u001b[0m\u001b[0mtemp\u001b[0m\u001b[1;33m)\u001b[0m\u001b[1;33m\u001b[0m\u001b[1;33m\u001b[0m\u001b[0m\n\u001b[0m",
      "\u001b[1;32m<ipython-input-61-1b4c256aff28>\u001b[0m in \u001b[0;36mval\u001b[1;34m(data, temp)\u001b[0m\n\u001b[0;32m      1\u001b[0m \u001b[1;32mdef\u001b[0m \u001b[0mval\u001b[0m\u001b[1;33m(\u001b[0m\u001b[0mdata\u001b[0m\u001b[1;33m,\u001b[0m \u001b[0mtemp\u001b[0m\u001b[1;33m)\u001b[0m\u001b[1;33m:\u001b[0m\u001b[1;33m\u001b[0m\u001b[1;33m\u001b[0m\u001b[0m\n\u001b[1;32m----> 2\u001b[1;33m     \u001b[0mrecurse_val\u001b[0m\u001b[1;33m(\u001b[0m\u001b[0mdata\u001b[0m\u001b[1;33m,\u001b[0m \u001b[0mtemp\u001b[0m\u001b[1;33m,\u001b[0m \u001b[1;34m''\u001b[0m\u001b[1;33m)\u001b[0m\u001b[1;33m\u001b[0m\u001b[1;33m\u001b[0m\u001b[0m\n\u001b[0m",
      "\u001b[1;32m<ipython-input-60-e42a4460ee5d>\u001b[0m in \u001b[0;36mrecurse_val\u001b[1;34m(data, temp, path)\u001b[0m\n\u001b[0;32m      9\u001b[0m         \u001b[0msub_temp\u001b[0m \u001b[1;33m=\u001b[0m \u001b[0mtemp\u001b[0m\u001b[1;33m[\u001b[0m\u001b[0mkey\u001b[0m\u001b[1;33m]\u001b[0m\u001b[1;33m\u001b[0m\u001b[1;33m\u001b[0m\u001b[0m\n\u001b[0;32m     10\u001b[0m         \u001b[0msub_data\u001b[0m \u001b[1;33m=\u001b[0m \u001b[0mdata\u001b[0m\u001b[1;33m[\u001b[0m\u001b[0mkey\u001b[0m\u001b[1;33m]\u001b[0m\u001b[1;33m\u001b[0m\u001b[1;33m\u001b[0m\u001b[0m\n\u001b[1;32m---> 11\u001b[1;33m         \u001b[0mrecurse_val\u001b[0m\u001b[1;33m(\u001b[0m\u001b[0msub_data\u001b[0m\u001b[1;33m,\u001b[0m \u001b[0msub_temp\u001b[0m\u001b[1;33m,\u001b[0m \u001b[0msub_path\u001b[0m\u001b[1;33m)\u001b[0m\u001b[1;33m\u001b[0m\u001b[1;33m\u001b[0m\u001b[0m\n\u001b[0m",
      "\u001b[1;32m<ipython-input-60-e42a4460ee5d>\u001b[0m in \u001b[0;36mrecurse_val\u001b[1;34m(data, temp, path)\u001b[0m\n\u001b[0;32m      9\u001b[0m         \u001b[0msub_temp\u001b[0m \u001b[1;33m=\u001b[0m \u001b[0mtemp\u001b[0m\u001b[1;33m[\u001b[0m\u001b[0mkey\u001b[0m\u001b[1;33m]\u001b[0m\u001b[1;33m\u001b[0m\u001b[1;33m\u001b[0m\u001b[0m\n\u001b[0;32m     10\u001b[0m         \u001b[0msub_data\u001b[0m \u001b[1;33m=\u001b[0m \u001b[0mdata\u001b[0m\u001b[1;33m[\u001b[0m\u001b[0mkey\u001b[0m\u001b[1;33m]\u001b[0m\u001b[1;33m\u001b[0m\u001b[1;33m\u001b[0m\u001b[0m\n\u001b[1;32m---> 11\u001b[1;33m         \u001b[0mrecurse_val\u001b[0m\u001b[1;33m(\u001b[0m\u001b[0msub_data\u001b[0m\u001b[1;33m,\u001b[0m \u001b[0msub_temp\u001b[0m\u001b[1;33m,\u001b[0m \u001b[0msub_path\u001b[0m\u001b[1;33m)\u001b[0m\u001b[1;33m\u001b[0m\u001b[1;33m\u001b[0m\u001b[0m\n\u001b[0m",
      "\u001b[1;32m<ipython-input-60-e42a4460ee5d>\u001b[0m in \u001b[0;36mrecurse_val\u001b[1;34m(data, temp, path)\u001b[0m\n\u001b[0;32m      1\u001b[0m \u001b[1;32mdef\u001b[0m \u001b[0mrecurse_val\u001b[0m\u001b[1;33m(\u001b[0m\u001b[0mdata\u001b[0m\u001b[1;33m,\u001b[0m \u001b[0mtemp\u001b[0m\u001b[1;33m,\u001b[0m \u001b[0mpath\u001b[0m\u001b[1;33m)\u001b[0m\u001b[1;33m:\u001b[0m\u001b[1;33m\u001b[0m\u001b[1;33m\u001b[0m\u001b[0m\n\u001b[1;32m----> 2\u001b[1;33m     \u001b[0mmatch_keys\u001b[0m\u001b[1;33m(\u001b[0m\u001b[0mdata\u001b[0m\u001b[1;33m,\u001b[0m \u001b[0mtemp\u001b[0m\u001b[1;33m,\u001b[0m \u001b[0mpath\u001b[0m\u001b[1;33m)\u001b[0m\u001b[1;33m\u001b[0m\u001b[1;33m\u001b[0m\u001b[0m\n\u001b[0m\u001b[0;32m      3\u001b[0m     \u001b[0mmatch_types\u001b[0m\u001b[1;33m(\u001b[0m\u001b[0mdata\u001b[0m\u001b[1;33m,\u001b[0m \u001b[0mtemp\u001b[0m\u001b[1;33m,\u001b[0m\u001b[0mpath\u001b[0m\u001b[1;33m)\u001b[0m\u001b[1;33m\u001b[0m\u001b[1;33m\u001b[0m\u001b[0m\n\u001b[0;32m      4\u001b[0m     diction_type_keys = {key for key, val in temp.items()\n\u001b[0;32m      5\u001b[0m                         if isinstance(val,dict)}\n",
      "\u001b[1;32m<ipython-input-58-46a79f2b3719>\u001b[0m in \u001b[0;36mmatch_keys\u001b[1;34m(data, valid, path)\u001b[0m\n\u001b[0;32m     15\u001b[0m                               for key in extra_keys})\n\u001b[0;32m     16\u001b[0m                      ) if extra_keys else ''\n\u001b[1;32m---> 17\u001b[1;33m         \u001b[1;32mraise\u001b[0m \u001b[0mSchemaKeyMismatch\u001b[0m\u001b[1;33m(\u001b[0m\u001b[1;34m' '\u001b[0m\u001b[1;33m.\u001b[0m\u001b[0mjoin\u001b[0m\u001b[1;33m(\u001b[0m\u001b[1;33m(\u001b[0m\u001b[0mmissing_msg\u001b[0m\u001b[1;33m,\u001b[0m \u001b[0mextras_msg\u001b[0m\u001b[1;33m)\u001b[0m\u001b[1;33m)\u001b[0m\u001b[1;33m)\u001b[0m\u001b[1;33m\u001b[0m\u001b[1;33m\u001b[0m\u001b[0m\n\u001b[0m",
      "\u001b[1;31mSchemaKeyMismatch\u001b[0m: missing keys: .bio.birthplace.city "
     ]
    }
   ],
   "source": [
    "val(eric,temp)"
   ]
  },
  {
   "cell_type": "code",
   "execution_count": 66,
   "metadata": {},
   "outputs": [
    {
     "ename": "SchemaTypeMismatch",
     "evalue": "incorrect type: .bio.dob.month--> expected int, found str",
     "output_type": "error",
     "traceback": [
      "\u001b[1;31m---------------------------------------------------------------------------\u001b[0m",
      "\u001b[1;31mSchemaTypeMismatch\u001b[0m                        Traceback (most recent call last)",
      "\u001b[1;32m<ipython-input-66-4cfcd125db71>\u001b[0m in \u001b[0;36m<module>\u001b[1;34m\u001b[0m\n\u001b[1;32m----> 1\u001b[1;33m \u001b[0mval\u001b[0m\u001b[1;33m(\u001b[0m\u001b[0mmichael\u001b[0m\u001b[1;33m,\u001b[0m\u001b[0mtemp\u001b[0m\u001b[1;33m)\u001b[0m\u001b[1;33m\u001b[0m\u001b[1;33m\u001b[0m\u001b[0m\n\u001b[0m",
      "\u001b[1;32m<ipython-input-61-1b4c256aff28>\u001b[0m in \u001b[0;36mval\u001b[1;34m(data, temp)\u001b[0m\n\u001b[0;32m      1\u001b[0m \u001b[1;32mdef\u001b[0m \u001b[0mval\u001b[0m\u001b[1;33m(\u001b[0m\u001b[0mdata\u001b[0m\u001b[1;33m,\u001b[0m \u001b[0mtemp\u001b[0m\u001b[1;33m)\u001b[0m\u001b[1;33m:\u001b[0m\u001b[1;33m\u001b[0m\u001b[1;33m\u001b[0m\u001b[0m\n\u001b[1;32m----> 2\u001b[1;33m     \u001b[0mrecurse_val\u001b[0m\u001b[1;33m(\u001b[0m\u001b[0mdata\u001b[0m\u001b[1;33m,\u001b[0m \u001b[0mtemp\u001b[0m\u001b[1;33m,\u001b[0m \u001b[1;34m''\u001b[0m\u001b[1;33m)\u001b[0m\u001b[1;33m\u001b[0m\u001b[1;33m\u001b[0m\u001b[0m\n\u001b[0m",
      "\u001b[1;32m<ipython-input-60-e42a4460ee5d>\u001b[0m in \u001b[0;36mrecurse_val\u001b[1;34m(data, temp, path)\u001b[0m\n\u001b[0;32m      9\u001b[0m         \u001b[0msub_temp\u001b[0m \u001b[1;33m=\u001b[0m \u001b[0mtemp\u001b[0m\u001b[1;33m[\u001b[0m\u001b[0mkey\u001b[0m\u001b[1;33m]\u001b[0m\u001b[1;33m\u001b[0m\u001b[1;33m\u001b[0m\u001b[0m\n\u001b[0;32m     10\u001b[0m         \u001b[0msub_data\u001b[0m \u001b[1;33m=\u001b[0m \u001b[0mdata\u001b[0m\u001b[1;33m[\u001b[0m\u001b[0mkey\u001b[0m\u001b[1;33m]\u001b[0m\u001b[1;33m\u001b[0m\u001b[1;33m\u001b[0m\u001b[0m\n\u001b[1;32m---> 11\u001b[1;33m         \u001b[0mrecurse_val\u001b[0m\u001b[1;33m(\u001b[0m\u001b[0msub_data\u001b[0m\u001b[1;33m,\u001b[0m \u001b[0msub_temp\u001b[0m\u001b[1;33m,\u001b[0m \u001b[0msub_path\u001b[0m\u001b[1;33m)\u001b[0m\u001b[1;33m\u001b[0m\u001b[1;33m\u001b[0m\u001b[0m\n\u001b[0m",
      "\u001b[1;32m<ipython-input-60-e42a4460ee5d>\u001b[0m in \u001b[0;36mrecurse_val\u001b[1;34m(data, temp, path)\u001b[0m\n\u001b[0;32m      9\u001b[0m         \u001b[0msub_temp\u001b[0m \u001b[1;33m=\u001b[0m \u001b[0mtemp\u001b[0m\u001b[1;33m[\u001b[0m\u001b[0mkey\u001b[0m\u001b[1;33m]\u001b[0m\u001b[1;33m\u001b[0m\u001b[1;33m\u001b[0m\u001b[0m\n\u001b[0;32m     10\u001b[0m         \u001b[0msub_data\u001b[0m \u001b[1;33m=\u001b[0m \u001b[0mdata\u001b[0m\u001b[1;33m[\u001b[0m\u001b[0mkey\u001b[0m\u001b[1;33m]\u001b[0m\u001b[1;33m\u001b[0m\u001b[1;33m\u001b[0m\u001b[0m\n\u001b[1;32m---> 11\u001b[1;33m         \u001b[0mrecurse_val\u001b[0m\u001b[1;33m(\u001b[0m\u001b[0msub_data\u001b[0m\u001b[1;33m,\u001b[0m \u001b[0msub_temp\u001b[0m\u001b[1;33m,\u001b[0m \u001b[0msub_path\u001b[0m\u001b[1;33m)\u001b[0m\u001b[1;33m\u001b[0m\u001b[1;33m\u001b[0m\u001b[0m\n\u001b[0m",
      "\u001b[1;32m<ipython-input-60-e42a4460ee5d>\u001b[0m in \u001b[0;36mrecurse_val\u001b[1;34m(data, temp, path)\u001b[0m\n\u001b[0;32m      1\u001b[0m \u001b[1;32mdef\u001b[0m \u001b[0mrecurse_val\u001b[0m\u001b[1;33m(\u001b[0m\u001b[0mdata\u001b[0m\u001b[1;33m,\u001b[0m \u001b[0mtemp\u001b[0m\u001b[1;33m,\u001b[0m \u001b[0mpath\u001b[0m\u001b[1;33m)\u001b[0m\u001b[1;33m:\u001b[0m\u001b[1;33m\u001b[0m\u001b[1;33m\u001b[0m\u001b[0m\n\u001b[0;32m      2\u001b[0m     \u001b[0mmatch_keys\u001b[0m\u001b[1;33m(\u001b[0m\u001b[0mdata\u001b[0m\u001b[1;33m,\u001b[0m \u001b[0mtemp\u001b[0m\u001b[1;33m,\u001b[0m \u001b[0mpath\u001b[0m\u001b[1;33m)\u001b[0m\u001b[1;33m\u001b[0m\u001b[1;33m\u001b[0m\u001b[0m\n\u001b[1;32m----> 3\u001b[1;33m     \u001b[0mmatch_types\u001b[0m\u001b[1;33m(\u001b[0m\u001b[0mdata\u001b[0m\u001b[1;33m,\u001b[0m \u001b[0mtemp\u001b[0m\u001b[1;33m,\u001b[0m\u001b[0mpath\u001b[0m\u001b[1;33m)\u001b[0m\u001b[1;33m\u001b[0m\u001b[1;33m\u001b[0m\u001b[0m\n\u001b[0m\u001b[0;32m      4\u001b[0m     diction_type_keys = {key for key, val in temp.items()\n\u001b[0;32m      5\u001b[0m                         if isinstance(val,dict)}\n",
      "\u001b[1;32m<ipython-input-59-95a500ebef0e>\u001b[0m in \u001b[0;36mmatch_types\u001b[1;34m(data, temp, path)\u001b[0m\n\u001b[0;32m     11\u001b[0m                         \u001b[1;33m+\u001b[0m \u001b[1;34m'--> expected '\u001b[0m \u001b[1;33m+\u001b[0m \u001b[0mtemp_type\u001b[0m\u001b[1;33m.\u001b[0m\u001b[0m__name__\u001b[0m\u001b[1;33m+\u001b[0m\u001b[1;33m\u001b[0m\u001b[1;33m\u001b[0m\u001b[0m\n\u001b[0;32m     12\u001b[0m                         ', found ' + type(data_val).__name__)\n\u001b[1;32m---> 13\u001b[1;33m             \u001b[1;32mraise\u001b[0m \u001b[0mSchemaTypeMismatch\u001b[0m\u001b[1;33m(\u001b[0m\u001b[0merror_msg\u001b[0m\u001b[1;33m)\u001b[0m\u001b[1;33m\u001b[0m\u001b[1;33m\u001b[0m\u001b[0m\n\u001b[0m",
      "\u001b[1;31mSchemaTypeMismatch\u001b[0m: incorrect type: .bio.dob.month--> expected int, found str"
     ]
    }
   ],
   "source": [
    "val(michael,temp)"
   ]
  },
  {
   "cell_type": "code",
   "execution_count": 67,
   "metadata": {},
   "outputs": [],
   "source": [
    "try:\n",
    "    val(john, temp)\n",
    "except SchemaError as ex:\n",
    "    print(ex)"
   ]
  },
  {
   "cell_type": "code",
   "execution_count": 68,
   "metadata": {},
   "outputs": [
    {
     "name": "stdout",
     "output_type": "stream",
     "text": [
      "missing keys: .bio.birthplace.city \n"
     ]
    }
   ],
   "source": [
    "try:\n",
    "    val(eric, temp)\n",
    "except SchemaError as ex:\n",
    "    print(ex)"
   ]
  },
  {
   "cell_type": "code",
   "execution_count": 69,
   "metadata": {},
   "outputs": [
    {
     "name": "stdout",
     "output_type": "stream",
     "text": [
      "incorrect type: .bio.dob.month--> expected int, found str\n"
     ]
    }
   ],
   "source": [
    "try:\n",
    "    val(michael, temp)\n",
    "except SchemaError as ex:\n",
    "    print(ex)"
   ]
  },
  {
   "cell_type": "code",
   "execution_count": 72,
   "metadata": {},
   "outputs": [
    {
     "name": "stdout",
     "output_type": "stream",
     "text": [
      "incorrect type: .bio.dob.month--> expected int, found str\n"
     ]
    }
   ],
   "source": [
    "try:\n",
    "    val(michael,temp)\n",
    "except SchemaTypeMismatch as ex:\n",
    "    print(ex)"
   ]
  },
  {
   "cell_type": "code",
   "execution_count": 73,
   "metadata": {},
   "outputs": [
    {
     "name": "stdout",
     "output_type": "stream",
     "text": [
      "handling a type mismatch exception incorrect type: .bio.dob.month--> expected int, found str\n"
     ]
    }
   ],
   "source": [
    "try:\n",
    "    val(michael, temp)\n",
    "except SchemaKeyMismatch as ex:\n",
    "    print('handling a key mismatch exception')\n",
    "except SchemaTypeMismatch as ex:\n",
    "    print('handling a type mismatch exception', ex)\n",
    "except SchemaError as ex:\n",
    "    print('handling some general schema exception', ex)\n",
    "except TypeError as ex:\n",
    "    print('handling a general type exception', ex)"
   ]
  },
  {
   "cell_type": "code",
   "execution_count": null,
   "metadata": {},
   "outputs": [],
   "source": []
  }
 ],
 "metadata": {
  "kernelspec": {
   "display_name": "Python 3",
   "language": "python",
   "name": "python3"
  },
  "language_info": {
   "codemirror_mode": {
    "name": "ipython",
    "version": 3
   },
   "file_extension": ".py",
   "mimetype": "text/x-python",
   "name": "python",
   "nbconvert_exporter": "python",
   "pygments_lexer": "ipython3",
   "version": "3.9.0"
  }
 },
 "nbformat": 4,
 "nbformat_minor": 4
}
